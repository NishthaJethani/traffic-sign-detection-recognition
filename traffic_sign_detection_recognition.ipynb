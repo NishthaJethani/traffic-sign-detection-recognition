{
  "nbformat": 4,
  "nbformat_minor": 0,
  "metadata": {
    "colab": {
      "provenance": [],
      "authorship_tag": "ABX9TyMX2JyuSAkwVbZfSIDWIz25",
      "include_colab_link": true
    },
    "kernelspec": {
      "name": "python3",
      "display_name": "Python 3"
    },
    "language_info": {
      "name": "python"
    }
  },
  "cells": [
    {
      "cell_type": "markdown",
      "metadata": {
        "id": "view-in-github",
        "colab_type": "text"
      },
      "source": [
        "<a href=\"https://colab.research.google.com/github/NishthaJethani/traffic-sign-detection-recognition/blob/main/traffic_sign_detection_recognition.ipynb\" target=\"_parent\"><img src=\"https://colab.research.google.com/assets/colab-badge.svg\" alt=\"Open In Colab\"/></a>"
      ]
    },
    {
      "cell_type": "code",
      "execution_count": 2,
      "metadata": {
        "id": "WwWbirvVfzYy",
        "colab": {
          "base_uri": "https://localhost:8080/"
        },
        "outputId": "0e141eef-6581-48da-f285-618b284ba5a6"
      },
      "outputs": [
        {
          "output_type": "stream",
          "name": "stdout",
          "text": [
            "Drive already mounted at /content/drive; to attempt to forcibly remount, call drive.mount(\"/content/drive\", force_remount=True).\n"
          ]
        }
      ],
      "source": [
        "from google.colab import drive\n",
        "\n",
        "drive.mount('/content/drive')\n",
        "\n",
        "kaggle_api_key = \"/content/drive/My Drive/kaggle.json\"\n"
      ]
    },
    {
      "cell_type": "code",
      "source": [
        "import os\n",
        "os.environ[\"KAGGLE_CONFIG_DIR\"] = \"/content/\"\n",
        "!cp \"{kaggle_api_key}\" /content/kaggle.json\n",
        "!chmod 600 /content/kaggle.json\n"
      ],
      "metadata": {
        "id": "_y7nxsaAH8kn"
      },
      "execution_count": 3,
      "outputs": []
    },
    {
      "cell_type": "code",
      "source": [
        "import kaggle\n",
        "\n",
        "kaggle_dataset_name = \"sarangdilipjodh/indian-traffic-signs-prediction85-classes\"\n",
        "\n",
        "# Replace 'destination_directory' with the desired destination within your Colab environment\n",
        "destination_directory = \"/content/dataset/\"\n",
        "\n",
        "# Use the Kaggle API to load the dataset without downloading it\n",
        "kaggle.api.dataset_download_files(kaggle_dataset_name, path=destination_directory, unzip=True)\n"
      ],
      "metadata": {
        "colab": {
          "base_uri": "https://localhost:8080/"
        },
        "id": "47zIHErPKu30",
        "outputId": "52e2b7f8-617b-4994-fbd5-36c6b6055bc5"
      },
      "execution_count": 10,
      "outputs": [
        {
          "output_type": "stream",
          "name": "stderr",
          "text": [
            "2023-08-06 05:19:59,122 WARNING Retrying (Retry(total=2, connect=None, read=None, redirect=None, status=None)) after connection broken by 'ProtocolError('Connection aborted.', RemoteDisconnected('Remote end closed connection without response'))': /api/v1/datasets/download/sarangdilipjodh/indian-traffic-signs-prediction85-classes?datasetVersionNumber=None\n",
            "WARNING:urllib3.connectionpool:Retrying (Retry(total=2, connect=None, read=None, redirect=None, status=None)) after connection broken by 'ProtocolError('Connection aborted.', RemoteDisconnected('Remote end closed connection without response'))': /api/v1/datasets/download/sarangdilipjodh/indian-traffic-signs-prediction85-classes?datasetVersionNumber=None\n"
          ]
        }
      ]
    },
    {
      "cell_type": "code",
      "source": [
        "extracted_files=os.listdir(\"/content/dataset/traffic_sign_classification_dataset\")\n",
        "print(extracted_files)"
      ],
      "metadata": {
        "colab": {
          "base_uri": "https://localhost:8080/"
        },
        "id": "Nz53GXGBMByR",
        "outputId": "0cfae260-6e72-4b22-bfcd-d32096ce5f33"
      },
      "execution_count": 12,
      "outputs": [
        {
          "output_type": "stream",
          "name": "stdout",
          "text": [
            "['test', 'train']\n"
          ]
        }
      ]
    },
    {
      "cell_type": "code",
      "source": [
        "from tensorflow.keras.preprocessing import image_dataset_from_directory\n",
        "\n",
        "train_data_dir = '/content/dataset/traffic_sign_classification_dataset/train'\n",
        "test_data_dir='/content/dataset/traffic_sign_classification_dataset/test'\n",
        "\n",
        "train=image_dataset_from_directory(\n",
        "    train_data_dir,\n",
        "    labels='inferred',\n",
        "    label_mode='categorical',\n",
        "    image_size=[128,128],\n",
        "    interpolation='nearest',\n",
        "    validation_split=0.2,\n",
        "    batch_size=64,\n",
        "    shuffle=True,\n",
        "    seed=42,\n",
        "    subset=\"training\",\n",
        ")\n",
        "\n",
        "validate=image_dataset_from_directory(\n",
        "    train_data_dir,\n",
        "    labels='inferred',\n",
        "    label_mode='categorical',\n",
        "    image_size=[128,128],\n",
        "    interpolation='nearest',\n",
        "    validation_split=0.2,\n",
        "    batch_size=64,\n",
        "    shuffle=False,\n",
        "    seed=42,\n",
        "    subset=\"validation\",\n",
        ")\n",
        "\n",
        "test=image_dataset_from_directory(\n",
        "    test_data_dir,\n",
        "    labels='inferred',\n",
        "    label_mode='categorical',\n",
        "    image_size=[128,128],\n",
        "    interpolation='nearest',\n",
        "    batch_size=64,\n",
        "    shuffle=False,\n",
        ")\n"
      ],
      "metadata": {
        "colab": {
          "base_uri": "https://localhost:8080/"
        },
        "id": "mlzVIuN4MTql",
        "outputId": "0310c095-5ce5-4a8b-e15e-c404b7b3d5db"
      },
      "execution_count": 15,
      "outputs": [
        {
          "output_type": "stream",
          "name": "stdout",
          "text": [
            "Found 4438 files belonging to 85 classes.\n",
            "Using 3551 files for training.\n",
            "Found 4438 files belonging to 85 classes.\n",
            "Using 887 files for validation.\n",
            "Found 1288 files belonging to 85 classes.\n"
          ]
        }
      ]
    },
    {
      "cell_type": "code",
      "source": [
        "signs=[]\n",
        "\n",
        "all_signs=os.listdir(train_data_dir)\n",
        "\n",
        "for item in all_signs:\n",
        "  signs.append(item)\n",
        "\n",
        "signs=sorted(signs)\n",
        "\n",
        "signs"
      ],
      "metadata": {
        "colab": {
          "base_uri": "https://localhost:8080/"
        },
        "id": "Aqz4WPTiarMj",
        "outputId": "64cbfdc4-2938-4102-bb0b-4d3ccdb99196"
      },
      "execution_count": 20,
      "outputs": [
        {
          "output_type": "execute_result",
          "data": {
            "text/plain": [
              "['ALL_MOTOR_VEHICLE_PROHIBITED',\n",
              " 'AXLE_LOAD_LIMIT',\n",
              " 'BARRIER_AHEAD',\n",
              " 'BULLOCK_AND_HANDCART_PROHIBITED',\n",
              " 'BULLOCK_PROHIBITED',\n",
              " 'CATTLE',\n",
              " 'COMPULSARY_AHEAD',\n",
              " 'COMPULSARY_AHEAD_OR_TURN_LEFT',\n",
              " 'COMPULSARY_AHEAD_OR_TURN_RIGHT',\n",
              " 'COMPULSARY_CYCLE_TRACK',\n",
              " 'COMPULSARY_KEEP_LEFT',\n",
              " 'COMPULSARY_KEEP_RIGHT',\n",
              " 'COMPULSARY_MINIMUM_SPEED',\n",
              " 'COMPULSARY_SOUND_HORN',\n",
              " 'COMPULSARY_TURN_LEFT',\n",
              " 'COMPULSARY_TURN_LEFT_AHEAD',\n",
              " 'COMPULSARY_TURN_RIGHT',\n",
              " 'COMPULSARY_TURN_RIGHT_AHEAD',\n",
              " 'CROSS_ROAD',\n",
              " 'CYCLE_CROSSING',\n",
              " 'CYCLE_PROHIBITED',\n",
              " 'DANGEROUS_DIP',\n",
              " 'DIRECTION',\n",
              " 'FALLING_ROCKS',\n",
              " 'FERRY',\n",
              " 'GAP_IN_MEDIAN',\n",
              " 'GIVE_WAY',\n",
              " 'GUARDED_LEVEL_CROSSING',\n",
              " 'HANDCART_PROHIBITED',\n",
              " 'HEIGHT_LIMIT',\n",
              " 'HORN_PROHIBITED',\n",
              " 'HUMP_OR_ROUGH_ROAD',\n",
              " 'LEFT_HAIR_PIN_BEND',\n",
              " 'LEFT_HAND_CURVE',\n",
              " 'LEFT_REVERSE_BEND',\n",
              " 'LEFT_TURN_PROHIBITED',\n",
              " 'LENGTH_LIMIT',\n",
              " 'LOAD_LIMIT',\n",
              " 'LOOSE_GRAVEL',\n",
              " 'MEN_AT_WORK',\n",
              " 'NARROW_BRIDGE',\n",
              " 'NARROW_ROAD_AHEAD',\n",
              " 'NO_ENTRY',\n",
              " 'NO_PARKING',\n",
              " 'NO_STOPPING_OR_STANDING',\n",
              " 'OVERTAKING_PROHIBITED',\n",
              " 'PASS_EITHER_SIDE',\n",
              " 'PEDESTRIAN_CROSSING',\n",
              " 'PEDESTRIAN_PROHIBITED',\n",
              " 'PRIORITY_FOR_ONCOMING_VEHICLES',\n",
              " 'QUAY_SIDE_OR_RIVER_BANK',\n",
              " 'RESTRICTION_ENDS',\n",
              " 'RIGHT_HAIR_PIN_BEND',\n",
              " 'RIGHT_HAND_CURVE',\n",
              " 'RIGHT_REVERSE_BEND',\n",
              " 'RIGHT_TURN_PROHIBITED',\n",
              " 'ROAD_WIDENS_AHEAD',\n",
              " 'ROUNDABOUT',\n",
              " 'SCHOOL_AHEAD',\n",
              " 'SIDE_ROAD_LEFT',\n",
              " 'SIDE_ROAD_RIGHT',\n",
              " 'SLIPPERY_ROAD',\n",
              " 'SPEED_LIMIT_15',\n",
              " 'SPEED_LIMIT_20',\n",
              " 'SPEED_LIMIT_30',\n",
              " 'SPEED_LIMIT_40',\n",
              " 'SPEED_LIMIT_5',\n",
              " 'SPEED_LIMIT_50',\n",
              " 'SPEED_LIMIT_60',\n",
              " 'SPEED_LIMIT_70',\n",
              " 'SPEED_LIMIT_80',\n",
              " 'STAGGERED_INTERSECTION',\n",
              " 'STEEP_ASCENT',\n",
              " 'STEEP_DESCENT',\n",
              " 'STOP',\n",
              " 'STRAIGHT_PROHIBITED',\n",
              " 'TONGA_PROHIBITED',\n",
              " 'TRAFFIC_SIGNAL',\n",
              " 'TRUCK_PROHIBITED',\n",
              " 'TURN_RIGHT',\n",
              " 'T_INTERSECTION',\n",
              " 'UNGUARDED_LEVEL_CROSSING',\n",
              " 'U_TURN_PROHIBITED',\n",
              " 'WIDTH_LIMIT',\n",
              " 'Y_INTERSECTION']"
            ]
          },
          "metadata": {},
          "execution_count": 20
        }
      ]
    },
    {
      "cell_type": "code",
      "source": [],
      "metadata": {
        "id": "N7JGuh7xbQiI"
      },
      "execution_count": null,
      "outputs": []
    }
  ]
}
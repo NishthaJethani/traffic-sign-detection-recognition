{
  "cells": [
    {
      "cell_type": "markdown",
      "metadata": {
        "id": "view-in-github",
        "colab_type": "text"
      },
      "source": [
        "<a href=\"https://colab.research.google.com/github/NishthaJethani/traffic-sign-detection-recognition/blob/main/traffic_sign_detection_recognition.ipynb\" target=\"_parent\"><img src=\"https://colab.research.google.com/assets/colab-badge.svg\" alt=\"Open In Colab\"/></a>"
      ]
    },
    {
      "cell_type": "code",
      "execution_count": 1,
      "metadata": {
        "colab": {
          "base_uri": "https://localhost:8080/"
        },
        "id": "WwWbirvVfzYy",
        "outputId": "a5b5c37a-8601-4ba1-dd17-a3b3e80fafbf"
      },
      "outputs": [
        {
          "output_type": "stream",
          "name": "stdout",
          "text": [
            "Mounted at /content/drive\n"
          ]
        }
      ],
      "source": [
        "from google.colab import drive\n",
        "\n",
        "drive.mount('/content/drive')\n",
        "\n",
        "kaggle_api_key = \"/content/drive/My Drive/kaggle.json\""
      ]
    },
    {
      "cell_type": "code",
      "execution_count": 4,
      "metadata": {
        "colab": {
          "base_uri": "https://localhost:8080/"
        },
        "id": "47zIHErPKu30",
        "outputId": "9669fe0b-94c8-49df-ff98-3c557deb45c5"
      },
      "outputs": [
        {
          "output_type": "stream",
          "name": "stdout",
          "text": [
            "Warning: Your Kaggle API key is readable by other users on this system! To fix this, you can run 'chmod 600 /root/.kaggle/kaggle.json'\n"
          ]
        }
      ],
      "source": [
        "import kaggle\n",
        "\n",
        "kaggle_dataset_name = \"sarangdilipjodh/indian-traffic-signs-prediction85-classes\"\n",
        "\n",
        "# Replace 'destination_directory' with the desired destination within your Colab environment\n",
        "destination_directory = \"/content/dataset/\"\n",
        "\n",
        "# Use the Kaggle API to load the dataset without downloading it\n",
        "kaggle.api.dataset_download_files(kaggle_dataset_name, path=destination_directory, unzip=True)"
      ]
    },
    {
      "cell_type": "code",
      "execution_count": 5,
      "metadata": {
        "colab": {
          "base_uri": "https://localhost:8080/"
        },
        "id": "Nz53GXGBMByR",
        "outputId": "6996aa8f-79c6-43e6-f491-ba3e038dcb9a"
      },
      "outputs": [
        {
          "output_type": "stream",
          "name": "stdout",
          "text": [
            "['test', 'train']\n"
          ]
        }
      ],
      "source": [
        "import os\n",
        "\n",
        "extracted_files=os.listdir(\"/content/dataset/traffic_sign_classification_dataset\")\n",
        "print(extracted_files)"
      ]
    },
    {
      "cell_type": "code",
      "execution_count": 6,
      "metadata": {
        "colab": {
          "base_uri": "https://localhost:8080/"
        },
        "id": "mlzVIuN4MTql",
        "outputId": "7d8306c1-79cc-48eb-c05f-826ea75ce798"
      },
      "outputs": [
        {
          "output_type": "stream",
          "name": "stdout",
          "text": [
            "Found 4438 files belonging to 85 classes.\n",
            "Using 3551 files for training.\n",
            "Found 4438 files belonging to 85 classes.\n",
            "Using 887 files for validation.\n",
            "Found 1288 files belonging to 85 classes.\n"
          ]
        }
      ],
      "source": [
        "from tensorflow.keras.preprocessing import image_dataset_from_directory\n",
        "\n",
        "train_data_dir = '/content/dataset/traffic_sign_classification_dataset/train'\n",
        "test_data_dir='/content/dataset/traffic_sign_classification_dataset/test'\n",
        "\n",
        "train=image_dataset_from_directory(\n",
        "    train_data_dir,\n",
        "    labels='inferred',\n",
        "    label_mode='categorical',\n",
        "    image_size=[64, 64],\n",
        "    interpolation='nearest',\n",
        "    validation_split=0.2,\n",
        "    batch_size=32,\n",
        "    shuffle=True,\n",
        "    seed=21,\n",
        "    subset=\"training\",\n",
        ")\n",
        "\n",
        "validate=image_dataset_from_directory(\n",
        "    train_data_dir,\n",
        "    labels='inferred',\n",
        "    label_mode='categorical',\n",
        "    image_size=[64, 64],\n",
        "    interpolation='nearest',\n",
        "    validation_split=0.2,\n",
        "    batch_size=32,\n",
        "    shuffle=False,\n",
        "    seed=21,\n",
        "    subset=\"validation\",\n",
        ")\n",
        "\n",
        "test=image_dataset_from_directory(\n",
        "    test_data_dir,\n",
        "    labels='inferred',\n",
        "    label_mode='categorical',\n",
        "    image_size=[64, 64],\n",
        "    interpolation='nearest',\n",
        "    batch_size=32,\n",
        "    shuffle=True,\n",
        "    seed=10,\n",
        ")"
      ]
    },
    {
      "cell_type": "code",
      "execution_count": null,
      "metadata": {
        "id": "FzTmfIc3yOW5"
      },
      "outputs": [],
      "source": [
        "from tensorflow.keras.preprocessing.image import ImageDataGenerator\n",
        "\n",
        "train_data = next(iter(train))\n",
        "images, labels = train_data\n",
        "\n",
        "# Create an instance of ImageDataGenerator for data augmentation\n",
        "train_datagen = ImageDataGenerator(\n",
        "    zoom_range=0.2,\n",
        "    width_shift_range=0.1,\n",
        "    height_shift_range=0.1,\n",
        "    brightness_range=(0.8, 1.2),\n",
        "    rescale=1.0 / 255.0\n",
        "\n",
        ")\n",
        "\n",
        "# Apply data augmentation and generate augmented batches of data\n",
        "augmented_train_data = train_datagen.flow(images, labels, batch_size=64, seed=42)"
      ]
    },
    {
      "cell_type": "code",
      "execution_count": 7,
      "metadata": {
        "colab": {
          "base_uri": "https://localhost:8080/"
        },
        "id": "Aqz4WPTiarMj",
        "outputId": "68408998-5196-482a-d78c-54b795f9cdfa"
      },
      "outputs": [
        {
          "output_type": "execute_result",
          "data": {
            "text/plain": [
              "['GIVE_WAY',\n",
              " 'LOAD_LIMIT',\n",
              " 'CYCLE_CROSSING',\n",
              " 'SPEED_LIMIT_60',\n",
              " 'BULLOCK_AND_HANDCART_PROHIBITED',\n",
              " 'COMPULSARY_CYCLE_TRACK',\n",
              " 'STAGGERED_INTERSECTION',\n",
              " 'MEN_AT_WORK',\n",
              " 'STEEP_ASCENT',\n",
              " 'HEIGHT_LIMIT',\n",
              " 'NO_ENTRY',\n",
              " 'SPEED_LIMIT_50',\n",
              " 'GUARDED_LEVEL_CROSSING',\n",
              " 'FERRY',\n",
              " 'LEFT_HAND_CURVE',\n",
              " 'COMPULSARY_AHEAD_OR_TURN_LEFT',\n",
              " 'TONGA_PROHIBITED',\n",
              " 'SPEED_LIMIT_5',\n",
              " 'QUAY_SIDE_OR_RIVER_BANK',\n",
              " 'Y_INTERSECTION',\n",
              " 'U_TURN_PROHIBITED',\n",
              " 'CYCLE_PROHIBITED',\n",
              " 'SIDE_ROAD_LEFT',\n",
              " 'RIGHT_TURN_PROHIBITED',\n",
              " 'ALL_MOTOR_VEHICLE_PROHIBITED',\n",
              " 'WIDTH_LIMIT',\n",
              " 'BULLOCK_PROHIBITED',\n",
              " 'COMPULSARY_KEEP_RIGHT',\n",
              " 'SPEED_LIMIT_30',\n",
              " 'DIRECTION',\n",
              " 'BARRIER_AHEAD',\n",
              " 'NO_STOPPING_OR_STANDING',\n",
              " 'STRAIGHT_PROHIBITED',\n",
              " 'LOOSE_GRAVEL',\n",
              " 'RIGHT_HAIR_PIN_BEND',\n",
              " 'ROUNDABOUT',\n",
              " 'CROSS_ROAD',\n",
              " 'NO_PARKING',\n",
              " 'PEDESTRIAN_PROHIBITED',\n",
              " 'T_INTERSECTION',\n",
              " 'NARROW_ROAD_AHEAD',\n",
              " 'COMPULSARY_MINIMUM_SPEED',\n",
              " 'TURN_RIGHT',\n",
              " 'DANGEROUS_DIP',\n",
              " 'SIDE_ROAD_RIGHT',\n",
              " 'AXLE_LOAD_LIMIT',\n",
              " 'COMPULSARY_TURN_RIGHT',\n",
              " 'STEEP_DESCENT',\n",
              " 'UNGUARDED_LEVEL_CROSSING',\n",
              " 'TRAFFIC_SIGNAL',\n",
              " 'SPEED_LIMIT_40',\n",
              " 'SPEED_LIMIT_70',\n",
              " 'FALLING_ROCKS',\n",
              " 'GAP_IN_MEDIAN',\n",
              " 'COMPULSARY_AHEAD',\n",
              " 'PASS_EITHER_SIDE',\n",
              " 'ROAD_WIDENS_AHEAD',\n",
              " 'LEFT_HAIR_PIN_BEND',\n",
              " 'LEFT_REVERSE_BEND',\n",
              " 'COMPULSARY_TURN_LEFT_AHEAD',\n",
              " 'COMPULSARY_TURN_LEFT',\n",
              " 'COMPULSARY_TURN_RIGHT_AHEAD',\n",
              " 'SLIPPERY_ROAD',\n",
              " 'LENGTH_LIMIT',\n",
              " 'HANDCART_PROHIBITED',\n",
              " 'CATTLE',\n",
              " 'SPEED_LIMIT_80',\n",
              " 'RIGHT_HAND_CURVE',\n",
              " 'LEFT_TURN_PROHIBITED',\n",
              " 'STOP',\n",
              " 'HORN_PROHIBITED',\n",
              " 'COMPULSARY_AHEAD_OR_TURN_RIGHT',\n",
              " 'HUMP_OR_ROUGH_ROAD',\n",
              " 'SCHOOL_AHEAD',\n",
              " 'RIGHT_REVERSE_BEND',\n",
              " 'COMPULSARY_KEEP_LEFT',\n",
              " 'TRUCK_PROHIBITED',\n",
              " 'SPEED_LIMIT_20',\n",
              " 'RESTRICTION_ENDS',\n",
              " 'COMPULSARY_SOUND_HORN',\n",
              " 'PRIORITY_FOR_ONCOMING_VEHICLES',\n",
              " 'NARROW_BRIDGE',\n",
              " 'OVERTAKING_PROHIBITED',\n",
              " 'PEDESTRIAN_CROSSING',\n",
              " 'SPEED_LIMIT_15']"
            ]
          },
          "metadata": {},
          "execution_count": 7
        }
      ],
      "source": [
        "signs=[]\n",
        "\n",
        "all_signs=os.listdir(train_data_dir)\n",
        "\n",
        "for item in all_signs:\n",
        "  signs.append(item)\n",
        "\n",
        "signs"
      ]
    },
    {
      "cell_type": "code",
      "execution_count": 8,
      "metadata": {
        "id": "N7JGuh7xbQiI"
      },
      "outputs": [],
      "source": [
        "from tensorflow.keras import models, layers\n",
        "from tensorflow.keras.regularizers import l2\n",
        "\n",
        "\n",
        "model=models.Sequential([\n",
        "    layers.Conv2D(filters=16, kernel_size=(5,5), kernel_regularizer=l2(0.01), activation='relu', input_shape=(64, 64, 3)),\n",
        "    layers.Conv2D(filters=32, kernel_size=(5,5), kernel_regularizer=l2(0.01), activation='relu'),\n",
        "    layers.MaxPool2D(pool_size=(2, 2)),\n",
        "    layers.BatchNormalization(axis=-1),\n",
        "\n",
        "    layers.Conv2D(filters=16, kernel_size=(3,3), activation='relu'),\n",
        "    layers.Conv2D(filters=32, kernel_size=(3,3), activation='relu'),\n",
        "    layers.MaxPool2D(pool_size=(2, 2)),\n",
        "    layers.BatchNormalization(axis=-1),\n",
        "\n",
        "    layers.Conv2D(filters=64, kernel_size=(3,3), activation='relu'),\n",
        "    layers.Conv2D(filters=64, kernel_size=(3,3), activation='relu'),\n",
        "    layers.MaxPool2D(pool_size=(2, 2)),\n",
        "    layers.BatchNormalization(axis=-1),\n",
        "\n",
        "    layers.Dropout(rate=0.25),\n",
        "    layers.Flatten(),\n",
        "    layers.Dense(512, activation='relu'),\n",
        "    layers.BatchNormalization(),\n",
        "    layers.Dropout(rate=0.25),\n",
        "\n",
        "    layers.Dense(85, activation='softmax')\n",
        "])"
      ]
    },
    {
      "cell_type": "code",
      "execution_count": 9,
      "metadata": {
        "colab": {
          "base_uri": "https://localhost:8080/"
        },
        "id": "17VXke8Kl75D",
        "outputId": "652eec57-7d1b-41f7-df7f-4ecb043f3481"
      },
      "outputs": [
        {
          "output_type": "stream",
          "name": "stdout",
          "text": [
            "Model: \"sequential\"\n",
            "_________________________________________________________________\n",
            " Layer (type)                Output Shape              Param #   \n",
            "=================================================================\n",
            " conv2d (Conv2D)             (None, 60, 60, 16)        1216      \n",
            "                                                                 \n",
            " conv2d_1 (Conv2D)           (None, 56, 56, 32)        12832     \n",
            "                                                                 \n",
            " max_pooling2d (MaxPooling2D  (None, 28, 28, 32)       0         \n",
            " )                                                               \n",
            "                                                                 \n",
            " batch_normalization (BatchN  (None, 28, 28, 32)       128       \n",
            " ormalization)                                                   \n",
            "                                                                 \n",
            " conv2d_2 (Conv2D)           (None, 26, 26, 16)        4624      \n",
            "                                                                 \n",
            " conv2d_3 (Conv2D)           (None, 24, 24, 32)        4640      \n",
            "                                                                 \n",
            " max_pooling2d_1 (MaxPooling  (None, 12, 12, 32)       0         \n",
            " 2D)                                                             \n",
            "                                                                 \n",
            " batch_normalization_1 (Batc  (None, 12, 12, 32)       128       \n",
            " hNormalization)                                                 \n",
            "                                                                 \n",
            " conv2d_4 (Conv2D)           (None, 10, 10, 64)        18496     \n",
            "                                                                 \n",
            " conv2d_5 (Conv2D)           (None, 8, 8, 64)          36928     \n",
            "                                                                 \n",
            " max_pooling2d_2 (MaxPooling  (None, 4, 4, 64)         0         \n",
            " 2D)                                                             \n",
            "                                                                 \n",
            " batch_normalization_2 (Batc  (None, 4, 4, 64)         256       \n",
            " hNormalization)                                                 \n",
            "                                                                 \n",
            " dropout (Dropout)           (None, 4, 4, 64)          0         \n",
            "                                                                 \n",
            " flatten (Flatten)           (None, 1024)              0         \n",
            "                                                                 \n",
            " dense (Dense)               (None, 512)               524800    \n",
            "                                                                 \n",
            " batch_normalization_3 (Batc  (None, 512)              2048      \n",
            " hNormalization)                                                 \n",
            "                                                                 \n",
            " dropout_1 (Dropout)         (None, 512)               0         \n",
            "                                                                 \n",
            " dense_1 (Dense)             (None, 85)                43605     \n",
            "                                                                 \n",
            "=================================================================\n",
            "Total params: 649,701\n",
            "Trainable params: 648,421\n",
            "Non-trainable params: 1,280\n",
            "_________________________________________________________________\n"
          ]
        }
      ],
      "source": [
        "model.summary()"
      ]
    },
    {
      "cell_type": "code",
      "execution_count": 10,
      "metadata": {
        "id": "a51Gwrahl9Am"
      },
      "outputs": [],
      "source": [
        "from tensorflow import keras\n",
        "\n",
        "model.compile(optimizer=keras.optimizers.Adam(learning_rate=0.001), loss='categorical_crossentropy', metrics=['accuracy'])"
      ]
    },
    {
      "cell_type": "code",
      "execution_count": 11,
      "metadata": {
        "id": "b_RopFvhBPtL"
      },
      "outputs": [],
      "source": [
        "from tensorflow.keras import callbacks\n",
        "\n",
        "\n",
        "early_stopping = callbacks.EarlyStopping(\n",
        "    min_delta=0.001, # minimium amount of change to count as an improvement\n",
        "    patience=20, # how many epochs to wait before stopping\n",
        "    restore_best_weights=True,\n",
        ")"
      ]
    },
    {
      "cell_type": "code",
      "execution_count": 12,
      "metadata": {
        "colab": {
          "base_uri": "https://localhost:8080/",
          "height": 1000
        },
        "id": "TRuGz9dOmDaO",
        "outputId": "152e1a92-83b1-4ecf-8352-afc46d45adc8"
      },
      "outputs": [
        {
          "output_type": "stream",
          "name": "stdout",
          "text": [
            "Epoch 1/20\n",
            "111/111 [==============================] - 54s 325ms/step - loss: 2.9446 - accuracy: 0.4193 - val_loss: 3.6890 - val_accuracy: 0.2041\n",
            "Epoch 2/20\n",
            "111/111 [==============================] - 38s 313ms/step - loss: 1.4258 - accuracy: 0.6891 - val_loss: 1.6124 - val_accuracy: 0.6347\n",
            "Epoch 3/20\n",
            "111/111 [==============================] - 36s 308ms/step - loss: 0.9735 - accuracy: 0.7910 - val_loss: 0.7704 - val_accuracy: 0.8388\n",
            "Epoch 4/20\n",
            "111/111 [==============================] - 36s 305ms/step - loss: 0.6796 - accuracy: 0.8640 - val_loss: 0.4927 - val_accuracy: 0.9256\n",
            "Epoch 5/20\n",
            "111/111 [==============================] - 39s 317ms/step - loss: 0.4993 - accuracy: 0.9088 - val_loss: 0.4127 - val_accuracy: 0.9436\n",
            "Epoch 6/20\n",
            "111/111 [==============================] - 37s 307ms/step - loss: 0.3768 - accuracy: 0.9361 - val_loss: 0.3779 - val_accuracy: 0.9425\n",
            "Epoch 7/20\n",
            "111/111 [==============================] - 38s 321ms/step - loss: 0.3164 - accuracy: 0.9521 - val_loss: 0.4051 - val_accuracy: 0.9357\n",
            "Epoch 8/20\n",
            "111/111 [==============================] - 38s 320ms/step - loss: 0.2727 - accuracy: 0.9645 - val_loss: 0.2691 - val_accuracy: 0.9707\n",
            "Epoch 9/20\n",
            "111/111 [==============================] - 36s 301ms/step - loss: 0.2455 - accuracy: 0.9668 - val_loss: 0.3280 - val_accuracy: 0.9538\n",
            "Epoch 10/20\n",
            "111/111 [==============================] - 36s 300ms/step - loss: 0.2244 - accuracy: 0.9704 - val_loss: 0.2603 - val_accuracy: 0.9707\n",
            "Epoch 11/20\n",
            "111/111 [==============================] - 37s 299ms/step - loss: 0.1921 - accuracy: 0.9780 - val_loss: 0.2349 - val_accuracy: 0.9741\n",
            "Epoch 12/20\n",
            "111/111 [==============================] - 39s 327ms/step - loss: 0.1719 - accuracy: 0.9817 - val_loss: 0.2420 - val_accuracy: 0.9718\n",
            "Epoch 13/20\n",
            "111/111 [==============================] - 36s 298ms/step - loss: 0.1671 - accuracy: 0.9803 - val_loss: 0.2422 - val_accuracy: 0.9718\n",
            "Epoch 14/20\n",
            "111/111 [==============================] - 37s 313ms/step - loss: 0.1515 - accuracy: 0.9834 - val_loss: 0.2279 - val_accuracy: 0.9707\n",
            "Epoch 15/20\n",
            "111/111 [==============================] - 36s 306ms/step - loss: 0.1606 - accuracy: 0.9809 - val_loss: 0.3269 - val_accuracy: 0.9369\n",
            "Epoch 16/20\n",
            "111/111 [==============================] - 37s 318ms/step - loss: 0.1621 - accuracy: 0.9749 - val_loss: 0.2608 - val_accuracy: 0.9605\n",
            "Epoch 17/20\n",
            "111/111 [==============================] - 37s 300ms/step - loss: 0.1616 - accuracy: 0.9724 - val_loss: 0.3216 - val_accuracy: 0.9436\n",
            "Epoch 18/20\n",
            "111/111 [==============================] - 37s 316ms/step - loss: 0.1391 - accuracy: 0.9800 - val_loss: 0.2155 - val_accuracy: 0.9673\n",
            "Epoch 19/20\n",
            "111/111 [==============================] - 37s 318ms/step - loss: 0.1868 - accuracy: 0.9676 - val_loss: 0.2355 - val_accuracy: 0.9628\n",
            "Epoch 20/20\n",
            "111/111 [==============================] - 36s 301ms/step - loss: 0.1748 - accuracy: 0.9662 - val_loss: 0.2452 - val_accuracy: 0.9662\n"
          ]
        },
        {
          "output_type": "display_data",
          "data": {
            "text/plain": [
              "<Figure size 640x480 with 1 Axes>"
            ],
            "image/png": "[encoded data removed]"
          },
          "metadata": {}
        },
        {
          "output_type": "display_data",
          "data": {
            "text/plain": [
              "<Figure size 640x480 with 1 Axes>"
            ],
            "image/png": "[encoded data removed]"
          },
          "metadata": {}
        }
      ],
      "source": [
        "history=model.fit(train, epochs=20, validation_data=validate, callbacks=[early_stopping])\n",
        "\n",
        "import pandas as pd\n",
        "history_frame = pd.DataFrame(history.history)\n",
        "history_frame.loc[:, ['loss', 'val_loss']].plot()\n",
        "history_frame.loc[:, ['accuracy', 'val_accuracy']].plot();"
      ]
    },
    {
      "cell_type": "code",
      "execution_count": 13,
      "metadata": {
        "id": "NldRS5UqvZc9",
        "colab": {
          "base_uri": "https://localhost:8080/"
        },
        "outputId": "86ae2de2-caa6-4c35-c55a-8223ef69e4a9"
      },
      "outputs": [
        {
          "output_type": "stream",
          "name": "stdout",
          "text": [
            "41/41 [==============================] - 4s 95ms/step - loss: 0.8948 - accuracy: 0.8517\n",
            "Test Loss: 0.894781768321991\n",
            "Test Accuracy: 0.8517080545425415\n"
          ]
        }
      ],
      "source": [
        "test_loss, test_accuracy = model.evaluate(test)\n",
        "\n",
        "print(\"Test Loss:\", test_loss)\n",
        "print(\"Test Accuracy:\", test_accuracy)"
      ]
    },
    {
      "cell_type": "code",
      "source": [
        "model.save('/content/drive/MyDrive/Deep_Learning/model_85_17.h5')"
      ],
      "metadata": {
        "id": "e8lORu3XbWia"
      },
      "execution_count": 14,
      "outputs": []
    }
  ],
  "metadata": {
    "accelerator": "GPU",
    "colab": {
      "provenance": [],
      "gpuType": "T4",
      "authorship_tag": "ABX9TyNuAkoBurt5k1AsjdkJMLkb",
      "include_colab_link": true
    },
    "kernelspec": {
      "display_name": "Python 3",
      "name": "python3"
    },
    "language_info": {
      "name": "python"
    }
  },
  "nbformat": 4,
  "nbformat_minor": 0
}
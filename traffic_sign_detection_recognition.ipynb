{
  "cells": [
    {
      "cell_type": "markdown",
      "metadata": {
        "id": "view-in-github",
        "colab_type": "text"
      },
      "source": [
        "<a href=\"https://colab.research.google.com/github/NishthaJethani/traffic-sign-detection-recognition/blob/main/traffic_sign_detection_recognition.ipynb\" target=\"_parent\"><img src=\"https://colab.research.google.com/assets/colab-badge.svg\" alt=\"Open In Colab\"/></a>"
      ]
    },
    {
      "cell_type": "code",
      "execution_count": 1,
      "metadata": {
        "colab": {
          "base_uri": "https://localhost:8080/"
        },
        "id": "WwWbirvVfzYy",
        "outputId": "68ca680d-5728-4046-da0b-213d609fb6aa"
      },
      "outputs": [
        {
          "output_type": "stream",
          "name": "stdout",
          "text": [
            "Mounted at /content/drive\n"
          ]
        }
      ],
      "source": [
        "from google.colab import drive\n",
        "\n",
        "drive.mount('/content/drive')"
      ]
    },
    {
      "cell_type": "code",
      "execution_count": 2,
      "metadata": {
        "colab": {
          "base_uri": "https://localhost:8080/"
        },
        "id": "Nz53GXGBMByR",
        "outputId": "9e66da88-ff0c-4ad0-ed4b-13d1be8f8c67"
      },
      "outputs": [
        {
          "output_type": "stream",
          "name": "stdout",
          "text": [
            "['test', 'train', 'Copy of traffic-sign-detection-recognition.ipynb']\n"
          ]
        }
      ],
      "source": [
        "import os\n",
        "\n",
        "extracted_files=os.listdir(\"/content/drive/MyDrive/traffic_sign_classification_dataset-drive-folder/traffic_sign_classification_dataset\")\n",
        "print(extracted_files)"
      ]
    },
    {
      "cell_type": "code",
      "execution_count": 3,
      "metadata": {
        "colab": {
          "base_uri": "https://localhost:8080/"
        },
        "id": "mlzVIuN4MTql",
        "outputId": "c28d3692-bac1-429e-b6b9-ba32c95d5c19"
      },
      "outputs": [
        {
          "output_type": "stream",
          "name": "stdout",
          "text": [
            "Found 4448 files belonging to 85 classes.\n",
            "Using 3559 files for training.\n",
            "Found 4448 files belonging to 85 classes.\n",
            "Using 889 files for validation.\n",
            "Found 1288 files belonging to 85 classes.\n"
          ]
        }
      ],
      "source": [
        "from tensorflow.keras.preprocessing import image_dataset_from_directory\n",
        "\n",
        "train_data_dir = '/content/drive/MyDrive/traffic_sign_classification_dataset-drive-folder/traffic_sign_classification_dataset/train'\n",
        "test_data_dir='/content/drive/MyDrive/traffic_sign_classification_dataset-drive-folder/traffic_sign_classification_dataset/test'\n",
        "\n",
        "train=image_dataset_from_directory(\n",
        "    train_data_dir,\n",
        "    labels='inferred',\n",
        "    label_mode='categorical',\n",
        "    image_size=[64, 64],\n",
        "    interpolation='nearest',\n",
        "    validation_split=0.2,\n",
        "    batch_size=32,\n",
        "    shuffle=True,\n",
        "    seed=21,\n",
        "    subset=\"training\",\n",
        ")\n",
        "\n",
        "validate=image_dataset_from_directory(\n",
        "    train_data_dir,\n",
        "    labels='inferred',\n",
        "    label_mode='categorical',\n",
        "    image_size=[64, 64],\n",
        "    interpolation='nearest',\n",
        "    validation_split=0.2,\n",
        "    batch_size=32,\n",
        "    shuffle=False,\n",
        "    seed=21,\n",
        "    subset=\"validation\",\n",
        ")\n",
        "\n",
        "test=image_dataset_from_directory(\n",
        "    test_data_dir,\n",
        "    labels='inferred',\n",
        "    label_mode='categorical',\n",
        "    image_size=[64, 64],\n",
        "    interpolation='nearest',\n",
        "    batch_size=32,\n",
        ")"
      ]
    },
    {
      "cell_type": "code",
      "execution_count": 4,
      "metadata": {
        "colab": {
          "base_uri": "https://localhost:8080/"
        },
        "id": "Aqz4WPTiarMj",
        "outputId": "12a7d023-26ab-4839-a05a-3582334a8911"
      },
      "outputs": [
        {
          "output_type": "execute_result",
          "data": {
            "text/plain": [
              "['ALL_MOTOR_VEHICLE_PROHIBITED',\n",
              " 'AXLE_LOAD_LIMIT',\n",
              " 'BARRIER_AHEAD',\n",
              " 'BULLOCK_AND_HANDCART_PROHIBITED',\n",
              " 'BULLOCK_PROHIBITED',\n",
              " 'CATTLE',\n",
              " 'COMPULSARY_AHEAD',\n",
              " 'COMPULSARY_AHEAD_OR_TURN_LEFT',\n",
              " 'COMPULSARY_AHEAD_OR_TURN_RIGHT',\n",
              " 'COMPULSARY_CYCLE_TRACK',\n",
              " 'COMPULSARY_KEEP_LEFT',\n",
              " 'COMPULSARY_KEEP_RIGHT',\n",
              " 'COMPULSARY_MINIMUM_SPEED',\n",
              " 'COMPULSARY_SOUND_HORN',\n",
              " 'COMPULSARY_TURN_LEFT',\n",
              " 'COMPULSARY_TURN_LEFT_AHEAD',\n",
              " 'COMPULSARY_TURN_RIGHT',\n",
              " 'COMPULSARY_TURN_RIGHT_AHEAD',\n",
              " 'CROSS_ROAD',\n",
              " 'CYCLE_CROSSING',\n",
              " 'CYCLE_PROHIBITED',\n",
              " 'DANGEROUS_DIP',\n",
              " 'DIRECTION',\n",
              " 'FALLING_ROCKS',\n",
              " 'FERRY',\n",
              " 'GAP_IN_MEDIAN',\n",
              " 'GIVE_WAY',\n",
              " 'GUARDED_LEVEL_CROSSING',\n",
              " 'HANDCART_PROHIBITED',\n",
              " 'HEIGHT_LIMIT',\n",
              " 'HORN_PROHIBITED',\n",
              " 'HUMP_OR_ROUGH_ROAD',\n",
              " 'LEFT_HAIR_PIN_BEND',\n",
              " 'LEFT_HAND_CURVE',\n",
              " 'LEFT_REVERSE_BEND',\n",
              " 'LEFT_TURN_PROHIBITED',\n",
              " 'LENGTH_LIMIT',\n",
              " 'LOAD_LIMIT',\n",
              " 'LOOSE_GRAVEL',\n",
              " 'MEN_AT_WORK',\n",
              " 'NARROW_BRIDGE',\n",
              " 'NARROW_ROAD_AHEAD',\n",
              " 'NO_ENTRY',\n",
              " 'NO_PARKING',\n",
              " 'NO_STOPPING_OR_STANDING',\n",
              " 'OVERTAKING_PROHIBITED',\n",
              " 'PASS_EITHER_SIDE',\n",
              " 'PEDESTRIAN_CROSSING',\n",
              " 'PEDESTRIAN_PROHIBITED',\n",
              " 'PRIORITY_FOR_ONCOMING_VEHICLES',\n",
              " 'QUAY_SIDE_OR_RIVER_BANK',\n",
              " 'RESTRICTION_ENDS',\n",
              " 'RIGHT_HAIR_PIN_BEND',\n",
              " 'RIGHT_HAND_CURVE',\n",
              " 'RIGHT_REVERSE_BEND',\n",
              " 'RIGHT_TURN_PROHIBITED',\n",
              " 'ROAD_WIDENS_AHEAD',\n",
              " 'ROUNDABOUT',\n",
              " 'SCHOOL_AHEAD',\n",
              " 'SIDE_ROAD_LEFT',\n",
              " 'SIDE_ROAD_RIGHT',\n",
              " 'SLIPPERY_ROAD',\n",
              " 'SPEED_LIMIT_15',\n",
              " 'SPEED_LIMIT_20',\n",
              " 'SPEED_LIMIT_30',\n",
              " 'SPEED_LIMIT_40',\n",
              " 'SPEED_LIMIT_5',\n",
              " 'SPEED_LIMIT_50',\n",
              " 'SPEED_LIMIT_60',\n",
              " 'SPEED_LIMIT_70',\n",
              " 'SPEED_LIMIT_80',\n",
              " 'STAGGERED_INTERSECTION',\n",
              " 'STEEP_ASCENT',\n",
              " 'STEEP_DESCENT',\n",
              " 'STOP',\n",
              " 'STRAIGHT_PROHIBITED',\n",
              " 'TONGA_PROHIBITED',\n",
              " 'TRAFFIC_SIGNAL',\n",
              " 'TRUCK_PROHIBITED',\n",
              " 'TURN_RIGHT',\n",
              " 'T_INTERSECTION',\n",
              " 'UNGUARDED_LEVEL_CROSSING',\n",
              " 'U_TURN_PROHIBITED',\n",
              " 'WIDTH_LIMIT',\n",
              " 'Y_INTERSECTION']"
            ]
          },
          "metadata": {},
          "execution_count": 4
        }
      ],
      "source": [
        "signs=[]\n",
        "\n",
        "all_signs=os.listdir(train_data_dir)\n",
        "\n",
        "for item in all_signs:\n",
        "  signs.append(item)\n",
        "\n",
        "signs=sorted(signs)\n",
        "signs"
      ]
    },
    {
      "cell_type": "code",
      "execution_count": 5,
      "metadata": {
        "id": "N7JGuh7xbQiI"
      },
      "outputs": [],
      "source": [
        "from tensorflow.keras import models, layers\n",
        "from tensorflow.keras.regularizers import l2\n",
        "\n",
        "\n",
        "model=models.Sequential([\n",
        "    layers.Conv2D(filters=16, kernel_size=(5,5), kernel_regularizer=l2(0.01), activation='relu', input_shape=(64, 64, 3)),\n",
        "    layers.Conv2D(filters=32, kernel_size=(5,5), kernel_regularizer=l2(0.01), activation='relu'),\n",
        "    layers.MaxPool2D(pool_size=(2, 2)),\n",
        "    layers.BatchNormalization(axis=-1),\n",
        "\n",
        "    layers.Conv2D(filters=16, kernel_size=(3,3), activation='relu'),\n",
        "    layers.Conv2D(filters=32, kernel_size=(3,3), activation='relu'),\n",
        "    layers.MaxPool2D(pool_size=(2, 2)),\n",
        "    layers.BatchNormalization(axis=-1),\n",
        "\n",
        "    layers.Conv2D(filters=64, kernel_size=(3,3), activation='relu'),\n",
        "    layers.Conv2D(filters=64, kernel_size=(3,3), activation='relu'),\n",
        "    layers.MaxPool2D(pool_size=(2, 2)),\n",
        "    layers.BatchNormalization(axis=-1),\n",
        "\n",
        "    layers.Dropout(rate=0.25),\n",
        "    layers.Flatten(),\n",
        "    layers.Dense(512, activation='relu'),\n",
        "    layers.BatchNormalization(),\n",
        "    layers.Dropout(rate=0.25),\n",
        "\n",
        "    layers.Dense(85, activation='softmax')\n",
        "])"
      ]
    },
    {
      "cell_type": "code",
      "execution_count": 6,
      "metadata": {
        "colab": {
          "base_uri": "https://localhost:8080/"
        },
        "id": "17VXke8Kl75D",
        "outputId": "d0acd434-72a5-4dfb-e973-16ffaafdfb4d"
      },
      "outputs": [
        {
          "output_type": "stream",
          "name": "stdout",
          "text": [
            "Model: \"sequential\"\n",
            "_________________________________________________________________\n",
            " Layer (type)                Output Shape              Param #   \n",
            "=================================================================\n",
            " conv2d (Conv2D)             (None, 60, 60, 16)        1216      \n",
            "                                                                 \n",
            " conv2d_1 (Conv2D)           (None, 56, 56, 32)        12832     \n",
            "                                                                 \n",
            " max_pooling2d (MaxPooling2D  (None, 28, 28, 32)       0         \n",
            " )                                                               \n",
            "                                                                 \n",
            " batch_normalization (BatchN  (None, 28, 28, 32)       128       \n",
            " ormalization)                                                   \n",
            "                                                                 \n",
            " conv2d_2 (Conv2D)           (None, 26, 26, 16)        4624      \n",
            "                                                                 \n",
            " conv2d_3 (Conv2D)           (None, 24, 24, 32)        4640      \n",
            "                                                                 \n",
            " max_pooling2d_1 (MaxPooling  (None, 12, 12, 32)       0         \n",
            " 2D)                                                             \n",
            "                                                                 \n",
            " batch_normalization_1 (Batc  (None, 12, 12, 32)       128       \n",
            " hNormalization)                                                 \n",
            "                                                                 \n",
            " conv2d_4 (Conv2D)           (None, 10, 10, 64)        18496     \n",
            "                                                                 \n",
            " conv2d_5 (Conv2D)           (None, 8, 8, 64)          36928     \n",
            "                                                                 \n",
            " max_pooling2d_2 (MaxPooling  (None, 4, 4, 64)         0         \n",
            " 2D)                                                             \n",
            "                                                                 \n",
            " batch_normalization_2 (Batc  (None, 4, 4, 64)         256       \n",
            " hNormalization)                                                 \n",
            "                                                                 \n",
            " dropout (Dropout)           (None, 4, 4, 64)          0         \n",
            "                                                                 \n",
            " flatten (Flatten)           (None, 1024)              0         \n",
            "                                                                 \n",
            " dense (Dense)               (None, 512)               524800    \n",
            "                                                                 \n",
            " batch_normalization_3 (Batc  (None, 512)              2048      \n",
            " hNormalization)                                                 \n",
            "                                                                 \n",
            " dropout_1 (Dropout)         (None, 512)               0         \n",
            "                                                                 \n",
            " dense_1 (Dense)             (None, 85)                43605     \n",
            "                                                                 \n",
            "=================================================================\n",
            "Total params: 649,701\n",
            "Trainable params: 648,421\n",
            "Non-trainable params: 1,280\n",
            "_________________________________________________________________\n"
          ]
        }
      ],
      "source": [
        "model.summary()"
      ]
    },
    {
      "cell_type": "code",
      "execution_count": 7,
      "metadata": {
        "id": "a51Gwrahl9Am"
      },
      "outputs": [],
      "source": [
        "from tensorflow import keras\n",
        "\n",
        "model.compile(optimizer=keras.optimizers.Adam(learning_rate=0.001), loss='categorical_crossentropy', metrics=['accuracy'])"
      ]
    },
    {
      "cell_type": "code",
      "execution_count": 8,
      "metadata": {
        "id": "b_RopFvhBPtL"
      },
      "outputs": [],
      "source": [
        "from tensorflow.keras import callbacks\n",
        "\n",
        "\n",
        "early_stopping = callbacks.EarlyStopping(\n",
        "    min_delta=0.001, # minimium amount of change to count as an improvement\n",
        "    patience=20, # how many epochs to wait before stopping\n",
        "    restore_best_weights=True,\n",
        ")"
      ]
    },
    {
      "cell_type": "code",
      "execution_count": 9,
      "metadata": {
        "colab": {
          "base_uri": "https://localhost:8080/",
          "height": 1000
        },
        "id": "TRuGz9dOmDaO",
        "outputId": "f7015e06-b250-4a3a-873a-9a0f26d63c2f"
      },
      "outputs": [
        {
          "output_type": "stream",
          "name": "stdout",
          "text": [
            "Epoch 1/30\n",
            "112/112 [==============================] - 375s 3s/step - loss: 2.9908 - accuracy: 0.3883 - val_loss: 2.8318 - val_accuracy: 0.4376\n",
            "Epoch 2/30\n",
            "112/112 [==============================] - 109s 923ms/step - loss: 1.5530 - accuracy: 0.6704 - val_loss: 0.9859 - val_accuracy: 0.8245\n",
            "Epoch 3/30\n",
            "112/112 [==============================] - 113s 978ms/step - loss: 1.0117 - accuracy: 0.7831 - val_loss: 0.6606 - val_accuracy: 0.8628\n",
            "Epoch 4/30\n",
            "112/112 [==============================] - 109s 939ms/step - loss: 0.7710 - accuracy: 0.8368 - val_loss: 0.4084 - val_accuracy: 0.9528\n",
            "Epoch 5/30\n",
            "112/112 [==============================] - 111s 940ms/step - loss: 0.5741 - accuracy: 0.8887 - val_loss: 0.4260 - val_accuracy: 0.9483\n",
            "Epoch 6/30\n",
            "112/112 [==============================] - 111s 951ms/step - loss: 0.4314 - accuracy: 0.9284 - val_loss: 0.3178 - val_accuracy: 0.9741\n",
            "Epoch 7/30\n",
            "112/112 [==============================] - 110s 944ms/step - loss: 0.3224 - accuracy: 0.9595 - val_loss: 0.2528 - val_accuracy: 0.9786\n",
            "Epoch 8/30\n",
            "112/112 [==============================] - 110s 949ms/step - loss: 0.2836 - accuracy: 0.9680 - val_loss: 0.2466 - val_accuracy: 0.9809\n",
            "Epoch 9/30\n",
            "112/112 [==============================] - 108s 929ms/step - loss: 0.2697 - accuracy: 0.9638 - val_loss: 0.2563 - val_accuracy: 0.9809\n",
            "Epoch 10/30\n",
            "112/112 [==============================] - 114s 985ms/step - loss: 0.2339 - accuracy: 0.9713 - val_loss: 0.2578 - val_accuracy: 0.9674\n",
            "Epoch 11/30\n",
            "112/112 [==============================] - 110s 944ms/step - loss: 0.2028 - accuracy: 0.9792 - val_loss: 0.1924 - val_accuracy: 0.9831\n",
            "Epoch 12/30\n",
            "112/112 [==============================] - 108s 936ms/step - loss: 0.1955 - accuracy: 0.9775 - val_loss: 0.3003 - val_accuracy: 0.9561\n",
            "Epoch 13/30\n",
            "112/112 [==============================] - 112s 968ms/step - loss: 0.2285 - accuracy: 0.9657 - val_loss: 0.2134 - val_accuracy: 0.9798\n",
            "Epoch 14/30\n",
            "112/112 [==============================] - 114s 988ms/step - loss: 0.1955 - accuracy: 0.9702 - val_loss: 0.1761 - val_accuracy: 0.9854\n",
            "Epoch 15/30\n",
            "112/112 [==============================] - 117s 1s/step - loss: 0.1610 - accuracy: 0.9781 - val_loss: 0.1699 - val_accuracy: 0.9843\n",
            "Epoch 16/30\n",
            "112/112 [==============================] - 111s 941ms/step - loss: 0.1453 - accuracy: 0.9831 - val_loss: 0.2113 - val_accuracy: 0.9730\n",
            "Epoch 17/30\n",
            "112/112 [==============================] - 109s 920ms/step - loss: 0.1397 - accuracy: 0.9812 - val_loss: 0.2100 - val_accuracy: 0.9708\n",
            "Epoch 18/30\n",
            "112/112 [==============================] - 125s 1s/step - loss: 0.1402 - accuracy: 0.9817 - val_loss: 0.2087 - val_accuracy: 0.9651\n",
            "Epoch 19/30\n",
            "112/112 [==============================] - 124s 1s/step - loss: 0.1574 - accuracy: 0.9753 - val_loss: 0.1697 - val_accuracy: 0.9786\n",
            "Epoch 20/30\n",
            "112/112 [==============================] - 137s 1s/step - loss: 0.1312 - accuracy: 0.9820 - val_loss: 0.1531 - val_accuracy: 0.9831\n",
            "Epoch 21/30\n",
            "112/112 [==============================] - 125s 1s/step - loss: 0.1154 - accuracy: 0.9826 - val_loss: 0.1723 - val_accuracy: 0.9809\n",
            "Epoch 22/30\n",
            "112/112 [==============================] - 125s 1s/step - loss: 0.1219 - accuracy: 0.9803 - val_loss: 0.1791 - val_accuracy: 0.9764\n",
            "Epoch 23/30\n",
            "112/112 [==============================] - 128s 1s/step - loss: 0.1303 - accuracy: 0.9764 - val_loss: 0.3657 - val_accuracy: 0.9145\n",
            "Epoch 24/30\n",
            "112/112 [==============================] - 124s 1s/step - loss: 0.1234 - accuracy: 0.9789 - val_loss: 0.1487 - val_accuracy: 0.9775\n",
            "Epoch 25/30\n",
            "112/112 [==============================] - 123s 1s/step - loss: 0.1149 - accuracy: 0.9795 - val_loss: 0.1740 - val_accuracy: 0.9741\n",
            "Epoch 26/30\n",
            "112/112 [==============================] - 124s 1s/step - loss: 0.1153 - accuracy: 0.9815 - val_loss: 0.2381 - val_accuracy: 0.9651\n",
            "Epoch 27/30\n",
            "112/112 [==============================] - 126s 1s/step - loss: 0.0968 - accuracy: 0.9843 - val_loss: 0.1211 - val_accuracy: 0.9876\n",
            "Epoch 28/30\n",
            "112/112 [==============================] - 122s 1s/step - loss: 0.0954 - accuracy: 0.9854 - val_loss: 0.1981 - val_accuracy: 0.9753\n",
            "Epoch 29/30\n",
            "112/112 [==============================] - 130s 1s/step - loss: 0.0956 - accuracy: 0.9829 - val_loss: 0.2378 - val_accuracy: 0.9505\n",
            "Epoch 30/30\n",
            "112/112 [==============================] - 121s 1s/step - loss: 0.1152 - accuracy: 0.9761 - val_loss: 0.3174 - val_accuracy: 0.9134\n"
          ]
        },
        {
          "output_type": "display_data",
          "data": {
            "text/plain": [
              "<Figure size 640x480 with 1 Axes>"
            ],
            "image/png": "[encoded data removed]"
          },
          "metadata": {}
        },
        {
          "output_type": "display_data",
          "data": {
            "text/plain": [
              "<Figure size 640x480 with 1 Axes>"
            ],
            "image/png": "[encoded data removed]"
          },
          "metadata": {}
        }
      ],
      "source": [
        "history=model.fit(train, epochs=30, validation_data=validate, callbacks=[early_stopping])\n",
        "\n",
        "import pandas as pd\n",
        "history_frame = pd.DataFrame(history.history)\n",
        "history_frame.loc[:, ['loss', 'val_loss']].plot()\n",
        "history_frame.loc[:, ['accuracy', 'val_accuracy']].plot();"
      ]
    },
    {
      "cell_type": "code",
      "execution_count": 10,
      "metadata": {
        "id": "NldRS5UqvZc9",
        "colab": {
          "base_uri": "https://localhost:8080/"
        },
        "outputId": "547fed8a-8998-4da2-9c44-5be5aaad65e0"
      },
      "outputs": [
        {
          "output_type": "stream",
          "name": "stdout",
          "text": [
            "41/41 [==============================] - 140s 3s/step - loss: 1.2657 - accuracy: 0.8137\n",
            "Test Loss: 1.2657089233398438\n",
            "Test Accuracy: 0.8136646151542664\n"
          ]
        }
      ],
      "source": [
        "test_loss, test_accuracy = model.evaluate(test)\n",
        "\n",
        "print(\"Test Loss:\", test_loss)\n",
        "print(\"Test Accuracy:\", test_accuracy)"
      ]
    },
    {
      "cell_type": "code",
      "source": [
        "import tensorflow as tf\n",
        "\n",
        "model2 = tf.keras.models.load_model('/content/drive/MyDrive/Deep_Learning/model_85_17.h5')\n",
        "\n",
        "test_loss, test_accuracy = model2.evaluate(test)\n",
        "\n",
        "print(\"Test Loss:\", test_loss)\n",
        "print(\"Test Accuracy:\", test_accuracy)\n"
      ],
      "metadata": {
        "id": "RDzFPo8Ofpn8",
        "colab": {
          "base_uri": "https://localhost:8080/"
        },
        "outputId": "9c315faf-4daa-4d80-a9c9-fdc15cb82456"
      },
      "execution_count": 11,
      "outputs": [
        {
          "output_type": "stream",
          "name": "stdout",
          "text": [
            "41/41 [==============================] - 15s 325ms/step - loss: 0.8948 - accuracy: 0.8517\n",
            "Test Loss: 0.8947815299034119\n",
            "Test Accuracy: 0.8517080545425415\n"
          ]
        }
      ]
    },
    {
      "cell_type": "code",
      "source": [
        "from tensorflow.keras.preprocessing import image\n",
        "import numpy as np\n",
        "import matplotlib.pyplot as plt\n",
        "\n",
        "\n",
        "new_image_path = '/content/drive/MyDrive/Deep_Learning/images (1).png'\n",
        "img = image.load_img(new_image_path, target_size=(64, 64))\n",
        "img_array = image.img_to_array(img)\n",
        "img_array = np.expand_dims(img_array, axis=0)\n",
        "\n",
        "predictions = model2.predict(img_array)\n",
        "\n",
        "\n",
        "img_array = np.reshape(img_array, (1, 64, 64, 3))\n",
        "img_array = img_array/255.0\n",
        "plt.figure(figsize=(8, 4))\n",
        "plt.imshow(img_array[0])\n",
        "plt.title(\"Input Image\")\n",
        "plt.axis('off')\n",
        "\n",
        "plt.show()"
      ],
      "metadata": {
        "id": "XfythRAgA0cO",
        "colab": {
          "base_uri": "https://localhost:8080/",
          "height": 384
        },
        "outputId": "f5e415d1-df33-43bd-9477-70e82df3cfb1"
      },
      "execution_count": 12,
      "outputs": [
        {
          "output_type": "stream",
          "name": "stdout",
          "text": [
            "1/1 [==============================] - 0s 328ms/step\n"
          ]
        },
        {
          "output_type": "display_data",
          "data": {
            "text/plain": [
              "<Figure size 800x400 with 1 Axes>"
            ],
            "image/png": "[encoded data removed]"
          },
          "metadata": {}
        }
      ]
    },
    {
      "cell_type": "code",
      "source": [
        "predicted_class_index = np.argmax(predictions)\n",
        "print(predicted_class_index, signs[predicted_class_index])"
      ],
      "metadata": {
        "id": "CfqTfcjNB-a7",
        "colab": {
          "base_uri": "https://localhost:8080/"
        },
        "outputId": "1d603547-7f37-4947-b9e0-424527746fdc"
      },
      "execution_count": 13,
      "outputs": [
        {
          "output_type": "stream",
          "name": "stdout",
          "text": [
            "43 NO_PARKING\n"
          ]
        }
      ]
    },
    {
      "cell_type": "code",
      "source": [
        "\n",
        "new_image_path = '/content/drive/MyDrive/Deep_Learning/Indian_Road_Sign_II-22.svg.png'\n",
        "img = image.load_img(new_image_path, target_size=(64, 64))\n",
        "img_array = image.img_to_array(img)\n",
        "img_array = np.expand_dims(img_array, axis=0)\n",
        "\n",
        "predictions = model2.predict(img_array)\n",
        "\n",
        "\n",
        "img_array = np.reshape(img_array, (1, 64, 64, 3))\n",
        "img_array = img_array/255.0\n",
        "plt.figure(figsize=(8, 4))\n",
        "plt.imshow(img_array[0])\n",
        "plt.title(\"Input Image\")\n",
        "plt.axis('off')\n",
        "\n",
        "plt.show()\n",
        "\n",
        "predicted_class_index = np.argmax(predictions)\n",
        "print(predicted_class_index, signs[predicted_class_index])"
      ],
      "metadata": {
        "id": "RDX12qYnHeBO",
        "colab": {
          "base_uri": "https://localhost:8080/",
          "height": 402
        },
        "outputId": "af7fae32-542a-4318-e2c1-28c39e4d7479"
      },
      "execution_count": 14,
      "outputs": [
        {
          "output_type": "stream",
          "name": "stdout",
          "text": [
            "1/1 [==============================] - 0s 35ms/step\n"
          ]
        },
        {
          "output_type": "display_data",
          "data": {
            "text/plain": [
              "<Figure size 800x400 with 1 Axes>"
            ],
            "image/png": "[encoded data removed]"
          },
          "metadata": {}
        },
        {
          "output_type": "stream",
          "name": "stdout",
          "text": [
            "56 ROAD_WIDENS_AHEAD\n"
          ]
        }
      ]
    },
    {
      "cell_type": "code",
      "source": [
        "new_image_path = '/content/drive/MyDrive/Deep_Learning/images.png'\n",
        "img = image.load_img(new_image_path, target_size=(64, 64))\n",
        "img_array = image.img_to_array(img)\n",
        "img_array = np.expand_dims(img_array, axis=0)\n",
        "\n",
        "predictions = model2.predict(img_array)\n",
        "\n",
        "\n",
        "img_array = np.reshape(img_array, (1, 64, 64, 3))\n",
        "img_array = img_array/255.0\n",
        "plt.figure(figsize=(8, 4))\n",
        "plt.imshow(img_array[0])\n",
        "plt.title(\"Input Image\")\n",
        "plt.axis('off')\n",
        "\n",
        "plt.show()\n",
        "\n",
        "predicted_class_index = np.argmax(predictions)\n",
        "print(predicted_class_index, signs[predicted_class_index])"
      ],
      "metadata": {
        "id": "wEIyljBlHlep",
        "colab": {
          "base_uri": "https://localhost:8080/",
          "height": 402
        },
        "outputId": "4b3b2f61-807d-4bc0-9037-3473c754b420"
      },
      "execution_count": 15,
      "outputs": [
        {
          "output_type": "stream",
          "name": "stdout",
          "text": [
            "1/1 [==============================] - 0s 34ms/step\n"
          ]
        },
        {
          "output_type": "display_data",
          "data": {
            "text/plain": [
              "<Figure size 800x400 with 1 Axes>"
            ],
            "image/png": "[encoded data removed]"
          },
          "metadata": {}
        },
        {
          "output_type": "stream",
          "name": "stdout",
          "text": [
            "82 U_TURN_PROHIBITED\n"
          ]
        }
      ]
    },
    {
      "cell_type": "code",
      "source": [
        "new_image_path = '/content/drive/MyDrive/Deep_Learning/164cb158a793db1037749d166bf5d483.jpg'\n",
        "img = image.load_img(new_image_path, target_size=(64, 64))\n",
        "img_array = image.img_to_array(img)\n",
        "img_array = np.expand_dims(img_array, axis=0)\n",
        "\n",
        "predictions = model2.predict(img_array)\n",
        "\n",
        "\n",
        "img_array = np.reshape(img_array, (1, 64, 64, 3))\n",
        "img_array = img_array/255.0\n",
        "plt.figure(figsize=(8, 4))\n",
        "plt.imshow(img_array[0])\n",
        "plt.title(\"Input Image\")\n",
        "plt.axis('off')\n",
        "\n",
        "plt.show()\n",
        "\n",
        "predicted_class_index = np.argmax(predictions)\n",
        "print(predicted_class_index, signs[predicted_class_index])"
      ],
      "metadata": {
        "id": "fhR2yGT2IOJE",
        "colab": {
          "base_uri": "https://localhost:8080/",
          "height": 402
        },
        "outputId": "ea2b2b66-cb49-49d6-8346-7899bcb8f0a5"
      },
      "execution_count": 16,
      "outputs": [
        {
          "output_type": "stream",
          "name": "stdout",
          "text": [
            "1/1 [==============================] - 0s 33ms/step\n"
          ]
        },
        {
          "output_type": "display_data",
          "data": {
            "text/plain": [
              "<Figure size 800x400 with 1 Axes>"
            ],
            "image/png": "[encoded data removed]"
          },
          "metadata": {}
        },
        {
          "output_type": "stream",
          "name": "stdout",
          "text": [
            "82 U_TURN_PROHIBITED\n"
          ]
        }
      ]
    },
    {
      "cell_type": "code",
      "source": [
        "new_image_path = '/content/drive/MyDrive/Deep_Learning/UK_traffic_sign_545.svg.png'\n",
        "img = image.load_img(new_image_path, target_size=(64, 64))\n",
        "img_array = image.img_to_array(img)\n",
        "img_array = np.expand_dims(img_array, axis=0)\n",
        "\n",
        "predictions = model2.predict(img_array)\n",
        "\n",
        "\n",
        "img_array = np.reshape(img_array, (1, 64, 64, 3))\n",
        "img_array = img_array/255.0\n",
        "plt.figure(figsize=(8, 4))\n",
        "plt.imshow(img_array[0])\n",
        "plt.title(\"Input Image\")\n",
        "plt.axis('off')\n",
        "\n",
        "plt.show()\n",
        "\n",
        "predicted_class_index = np.argmax(predictions)\n",
        "print(predicted_class_index, signs[predicted_class_index])"
      ],
      "metadata": {
        "id": "V1DpEXbkI1H1",
        "colab": {
          "base_uri": "https://localhost:8080/",
          "height": 402
        },
        "outputId": "ab6d38d6-76bd-485d-c0da-91b5011cf4d8"
      },
      "execution_count": 17,
      "outputs": [
        {
          "output_type": "stream",
          "name": "stdout",
          "text": [
            "1/1 [==============================] - 0s 38ms/step\n"
          ]
        },
        {
          "output_type": "display_data",
          "data": {
            "text/plain": [
              "<Figure size 800x400 with 1 Axes>"
            ],
            "image/png": "[encoded data removed]"
          },
          "metadata": {}
        },
        {
          "output_type": "stream",
          "name": "stdout",
          "text": [
            "58 SCHOOL_AHEAD\n"
          ]
        }
      ]
    },
    {
      "cell_type": "code",
      "source": [],
      "metadata": {
        "id": "As5vurC_KbDy"
      },
      "execution_count": 17,
      "outputs": []
    },
    {
      "cell_type": "code",
      "source": [
        "new_image_path = '/content/drive/MyDrive/Deep_Learning/11.png'\n",
        "img = image.load_img(new_image_path, target_size=(64, 64))\n",
        "img_array = image.img_to_array(img)\n",
        "img_array = np.expand_dims(img_array, axis=0)\n",
        "\n",
        "predictions = model2.predict(img_array)\n",
        "\n",
        "\n",
        "img_array = np.reshape(img_array, (1, 64, 64, 3))\n",
        "img_array = img_array/255.0\n",
        "plt.figure(figsize=(8, 4))\n",
        "plt.imshow(img_array[0])\n",
        "plt.title(\"Input Image\")\n",
        "plt.axis('off')\n",
        "\n",
        "plt.show()\n",
        "\n",
        "predicted_class_index = np.argmax(predictions)\n",
        "print(predicted_class_index, signs[predicted_class_index])"
      ],
      "metadata": {
        "id": "MweN3pjiJ1lq",
        "outputId": "3c370b7b-f3a9-42d6-fad0-7dacde5b43a0",
        "colab": {
          "base_uri": "https://localhost:8080/",
          "height": 402
        }
      },
      "execution_count": 18,
      "outputs": [
        {
          "output_type": "stream",
          "name": "stdout",
          "text": [
            "1/1 [==============================] - 0s 99ms/step\n"
          ]
        },
        {
          "output_type": "display_data",
          "data": {
            "text/plain": [
              "<Figure size 800x400 with 1 Axes>"
            ],
            "image/png": "[encoded data removed]"
          },
          "metadata": {}
        },
        {
          "output_type": "stream",
          "name": "stdout",
          "text": [
            "4 BULLOCK_PROHIBITED\n"
          ]
        }
      ]
    },
    {
      "cell_type": "code",
      "source": [
        "new_image_path = '/content/drive/MyDrive/Deep_Learning/12.png'\n",
        "img = image.load_img(new_image_path, target_size=(64, 64))\n",
        "img_array = image.img_to_array(img)\n",
        "img_array = np.expand_dims(img_array, axis=0)\n",
        "\n",
        "predictions = model2.predict(img_array)\n",
        "\n",
        "\n",
        "img_array = np.reshape(img_array, (1, 64, 64, 3))\n",
        "img_array = img_array/255.0\n",
        "plt.figure(figsize=(8, 4))\n",
        "plt.imshow(img_array[0])\n",
        "plt.title(\"Input Image\")\n",
        "plt.axis('off')\n",
        "\n",
        "plt.show()\n",
        "\n",
        "predicted_class_index = np.argmax(predictions)\n",
        "print(predicted_class_index, signs[predicted_class_index])"
      ],
      "metadata": {
        "id": "9wZLTF0MKljb",
        "outputId": "bff173dc-5cd4-4dc9-8f39-5e5a5e63b75a",
        "colab": {
          "base_uri": "https://localhost:8080/",
          "height": 402
        }
      },
      "execution_count": 19,
      "outputs": [
        {
          "output_type": "stream",
          "name": "stdout",
          "text": [
            "1/1 [==============================] - 0s 52ms/step\n"
          ]
        },
        {
          "output_type": "display_data",
          "data": {
            "text/plain": [
              "<Figure size 800x400 with 1 Axes>"
            ],
            "image/png": "[encoded data removed]"
          },
          "metadata": {}
        },
        {
          "output_type": "stream",
          "name": "stdout",
          "text": [
            "58 SCHOOL_AHEAD\n"
          ]
        }
      ]
    },
    {
      "cell_type": "code",
      "source": [
        "new_image_path = '/content/drive/MyDrive/Deep_Learning/13.png'\n",
        "img = image.load_img(new_image_path, target_size=(64, 64))\n",
        "img_array = image.img_to_array(img)\n",
        "img_array = np.expand_dims(img_array, axis=0)\n",
        "\n",
        "predictions = model2.predict(img_array)\n",
        "\n",
        "\n",
        "img_array = np.reshape(img_array, (1, 64, 64, 3))\n",
        "img_array = img_array/255.0\n",
        "plt.figure(figsize=(8, 4))\n",
        "plt.imshow(img_array[0])\n",
        "plt.title(\"Input Image\")\n",
        "plt.axis('off')\n",
        "\n",
        "plt.show()\n",
        "\n",
        "predicted_class_index = np.argmax(predictions)\n",
        "print(predicted_class_index, signs[predicted_class_index])"
      ],
      "metadata": {
        "id": "Xh1J6CuaK5IM",
        "outputId": "149b3257-73df-44ba-d39d-3a517def971d",
        "colab": {
          "base_uri": "https://localhost:8080/",
          "height": 402
        }
      },
      "execution_count": 20,
      "outputs": [
        {
          "output_type": "stream",
          "name": "stdout",
          "text": [
            "1/1 [==============================] - 0s 99ms/step\n"
          ]
        },
        {
          "output_type": "display_data",
          "data": {
            "text/plain": [
              "<Figure size 800x400 with 1 Axes>"
            ],
            "image/png": "[encoded data removed]"
          },
          "metadata": {}
        },
        {
          "output_type": "stream",
          "name": "stdout",
          "text": [
            "0 ALL_MOTOR_VEHICLE_PROHIBITED\n"
          ]
        }
      ]
    }
  ],
  "metadata": {
    "colab": {
      "provenance": [],
      "include_colab_link": true
    },
    "kernelspec": {
      "display_name": "Python 3",
      "name": "python3"
    },
    "language_info": {
      "name": "python"
    },
    "accelerator": "TPU"
  },
  "nbformat": 4,
  "nbformat_minor": 0
}
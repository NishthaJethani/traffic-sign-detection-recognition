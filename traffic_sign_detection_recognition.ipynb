{
  "cells": [
    {
      "cell_type": "markdown",
      "metadata": {
        "id": "view-in-github",
        "colab_type": "text"
      },
      "source": [
        "<a href=\"https://colab.research.google.com/github/NishthaJethani/traffic-sign-detection-recognition/blob/main/traffic_sign_detection_recognition.ipynb\" target=\"_parent\"><img src=\"https://colab.research.google.com/assets/colab-badge.svg\" alt=\"Open In Colab\"/></a>"
      ]
    },
    {
      "cell_type": "code",
      "execution_count": 2,
      "metadata": {
        "colab": {
          "base_uri": "https://localhost:8080/"
        },
        "id": "WwWbirvVfzYy",
        "outputId": "1a5b5576-426f-4fc2-9d4a-72f0a9ee2a83"
      },
      "outputs": [
        {
          "output_type": "stream",
          "name": "stdout",
          "text": [
            "Mounted at /content/drive\n"
          ]
        }
      ],
      "source": [
        "from google.colab import drive\n",
        "\n",
        "drive.mount('/content/drive')\n",
        "\n",
        "kaggle_api_key = \"/content/drive/My Drive/kaggle.json\""
      ]
    },
    {
      "cell_type": "code",
      "execution_count": 4,
      "metadata": {
        "colab": {
          "base_uri": "https://localhost:8080/"
        },
        "id": "47zIHErPKu30",
        "outputId": "5ca74c7f-3717-4a2a-a827-f240df45c7ff"
      },
      "outputs": [
        {
          "output_type": "stream",
          "name": "stdout",
          "text": [
            "Warning: Your Kaggle API key is readable by other users on this system! To fix this, you can run 'chmod 600 /root/.kaggle/kaggle.json'\n"
          ]
        }
      ],
      "source": [
        "import kaggle\n",
        "\n",
        "kaggle_dataset_name = \"sarangdilipjodh/indian-traffic-signs-prediction85-classes\"\n",
        "\n",
        "# Replace 'destination_directory' with the desired destination within your Colab environment\n",
        "destination_directory = \"/content/dataset/\"\n",
        "\n",
        "# Use the Kaggle API to load the dataset without downloading it\n",
        "kaggle.api.dataset_download_files(kaggle_dataset_name, path=destination_directory, unzip=True)"
      ]
    },
    {
      "cell_type": "code",
      "execution_count": 5,
      "metadata": {
        "colab": {
          "base_uri": "https://localhost:8080/"
        },
        "id": "Nz53GXGBMByR",
        "outputId": "c3119649-d436-4353-b933-5ab90822f4df"
      },
      "outputs": [
        {
          "output_type": "stream",
          "name": "stdout",
          "text": [
            "['test', 'train']\n"
          ]
        }
      ],
      "source": [
        "import os\n",
        "\n",
        "extracted_files=os.listdir(\"/content/dataset/traffic_sign_classification_dataset\")\n",
        "print(extracted_files)"
      ]
    },
    {
      "cell_type": "code",
      "execution_count": 7,
      "metadata": {
        "colab": {
          "base_uri": "https://localhost:8080/"
        },
        "id": "mlzVIuN4MTql",
        "outputId": "268af9d5-e3a8-4fef-ed1e-07c6bd844333"
      },
      "outputs": [
        {
          "output_type": "stream",
          "name": "stdout",
          "text": [
            "Found 4438 files belonging to 85 classes.\n",
            "Using 3551 files for training.\n",
            "Found 4438 files belonging to 85 classes.\n",
            "Using 887 files for validation.\n",
            "Found 1288 files belonging to 85 classes.\n"
          ]
        }
      ],
      "source": [
        "from tensorflow.keras.preprocessing import image_dataset_from_directory\n",
        "\n",
        "train_data_dir = '/content/dataset/traffic_sign_classification_dataset/train'\n",
        "test_data_dir='/content/dataset/traffic_sign_classification_dataset/test'\n",
        "\n",
        "train=image_dataset_from_directory(\n",
        "    train_data_dir,\n",
        "    labels='inferred',\n",
        "    label_mode='categorical',\n",
        "    image_size=[64, 64],\n",
        "    interpolation='nearest',\n",
        "    validation_split=0.2,\n",
        "    batch_size=32,\n",
        "    shuffle=True,\n",
        "    seed=21,\n",
        "    subset=\"training\",\n",
        ")\n",
        "\n",
        "validate=image_dataset_from_directory(\n",
        "    train_data_dir,\n",
        "    labels='inferred',\n",
        "    label_mode='categorical',\n",
        "    image_size=[64, 64],\n",
        "    interpolation='nearest',\n",
        "    validation_split=0.2,\n",
        "    batch_size=32,\n",
        "    shuffle=False,\n",
        "    seed=21,\n",
        "    subset=\"validation\",\n",
        ")\n",
        "\n",
        "test=image_dataset_from_directory(\n",
        "    test_data_dir,\n",
        "    labels='inferred',\n",
        "    label_mode='categorical',\n",
        "    image_size=[64, 64],\n",
        "    interpolation='nearest',\n",
        "    batch_size=32,\n",
        ")"
      ]
    },
    {
      "cell_type": "code",
      "execution_count": 57,
      "metadata": {
        "colab": {
          "base_uri": "https://localhost:8080/"
        },
        "id": "Aqz4WPTiarMj",
        "outputId": "9dffc3ae-bcb5-4d6a-9ca4-a5ff31432339"
      },
      "outputs": [
        {
          "output_type": "execute_result",
          "data": {
            "text/plain": [
              "['ALL_MOTOR_VEHICLE_PROHIBITED',\n",
              " 'AXLE_LOAD_LIMIT',\n",
              " 'BARRIER_AHEAD',\n",
              " 'BULLOCK_AND_HANDCART_PROHIBITED',\n",
              " 'BULLOCK_PROHIBITED',\n",
              " 'CATTLE',\n",
              " 'COMPULSARY_AHEAD',\n",
              " 'COMPULSARY_AHEAD_OR_TURN_LEFT',\n",
              " 'COMPULSARY_AHEAD_OR_TURN_RIGHT',\n",
              " 'COMPULSARY_CYCLE_TRACK',\n",
              " 'COMPULSARY_KEEP_LEFT',\n",
              " 'COMPULSARY_KEEP_RIGHT',\n",
              " 'COMPULSARY_MINIMUM_SPEED',\n",
              " 'COMPULSARY_SOUND_HORN',\n",
              " 'COMPULSARY_TURN_LEFT',\n",
              " 'COMPULSARY_TURN_LEFT_AHEAD',\n",
              " 'COMPULSARY_TURN_RIGHT',\n",
              " 'COMPULSARY_TURN_RIGHT_AHEAD',\n",
              " 'CROSS_ROAD',\n",
              " 'CYCLE_CROSSING',\n",
              " 'CYCLE_PROHIBITED',\n",
              " 'DANGEROUS_DIP',\n",
              " 'DIRECTION',\n",
              " 'FALLING_ROCKS',\n",
              " 'FERRY',\n",
              " 'GAP_IN_MEDIAN',\n",
              " 'GIVE_WAY',\n",
              " 'GUARDED_LEVEL_CROSSING',\n",
              " 'HANDCART_PROHIBITED',\n",
              " 'HEIGHT_LIMIT',\n",
              " 'HORN_PROHIBITED',\n",
              " 'HUMP_OR_ROUGH_ROAD',\n",
              " 'LEFT_HAIR_PIN_BEND',\n",
              " 'LEFT_HAND_CURVE',\n",
              " 'LEFT_REVERSE_BEND',\n",
              " 'LEFT_TURN_PROHIBITED',\n",
              " 'LENGTH_LIMIT',\n",
              " 'LOAD_LIMIT',\n",
              " 'LOOSE_GRAVEL',\n",
              " 'MEN_AT_WORK',\n",
              " 'NARROW_BRIDGE',\n",
              " 'NARROW_ROAD_AHEAD',\n",
              " 'NO_ENTRY',\n",
              " 'NO_PARKING',\n",
              " 'NO_STOPPING_OR_STANDING',\n",
              " 'OVERTAKING_PROHIBITED',\n",
              " 'PASS_EITHER_SIDE',\n",
              " 'PEDESTRIAN_CROSSING',\n",
              " 'PEDESTRIAN_PROHIBITED',\n",
              " 'PRIORITY_FOR_ONCOMING_VEHICLES',\n",
              " 'QUAY_SIDE_OR_RIVER_BANK',\n",
              " 'RESTRICTION_ENDS',\n",
              " 'RIGHT_HAIR_PIN_BEND',\n",
              " 'RIGHT_HAND_CURVE',\n",
              " 'RIGHT_REVERSE_BEND',\n",
              " 'RIGHT_TURN_PROHIBITED',\n",
              " 'ROAD_WIDENS_AHEAD',\n",
              " 'ROUNDABOUT',\n",
              " 'SCHOOL_AHEAD',\n",
              " 'SIDE_ROAD_LEFT',\n",
              " 'SIDE_ROAD_RIGHT',\n",
              " 'SLIPPERY_ROAD',\n",
              " 'SPEED_LIMIT_15',\n",
              " 'SPEED_LIMIT_20',\n",
              " 'SPEED_LIMIT_30',\n",
              " 'SPEED_LIMIT_40',\n",
              " 'SPEED_LIMIT_5',\n",
              " 'SPEED_LIMIT_50',\n",
              " 'SPEED_LIMIT_60',\n",
              " 'SPEED_LIMIT_70',\n",
              " 'SPEED_LIMIT_80',\n",
              " 'STAGGERED_INTERSECTION',\n",
              " 'STEEP_ASCENT',\n",
              " 'STEEP_DESCENT',\n",
              " 'STOP',\n",
              " 'STRAIGHT_PROHIBITED',\n",
              " 'TONGA_PROHIBITED',\n",
              " 'TRAFFIC_SIGNAL',\n",
              " 'TRUCK_PROHIBITED',\n",
              " 'TURN_RIGHT',\n",
              " 'T_INTERSECTION',\n",
              " 'UNGUARDED_LEVEL_CROSSING',\n",
              " 'U_TURN_PROHIBITED',\n",
              " 'WIDTH_LIMIT',\n",
              " 'Y_INTERSECTION']"
            ]
          },
          "metadata": {},
          "execution_count": 57
        }
      ],
      "source": [
        "signs=[]\n",
        "\n",
        "all_signs=os.listdir(train_data_dir)\n",
        "\n",
        "for item in all_signs:\n",
        "  signs.append(item)\n",
        "\n",
        "signs=sorted(signs)\n",
        "signs"
      ]
    },
    {
      "cell_type": "code",
      "execution_count": null,
      "metadata": {
        "id": "N7JGuh7xbQiI"
      },
      "outputs": [],
      "source": [
        "from tensorflow.keras import models, layers\n",
        "from tensorflow.keras.regularizers import l2\n",
        "\n",
        "\n",
        "model=models.Sequential([\n",
        "    layers.Conv2D(filters=16, kernel_size=(5,5), kernel_regularizer=l2(0.01), activation='relu', input_shape=(64, 64, 3)),\n",
        "    layers.Conv2D(filters=32, kernel_size=(5,5), kernel_regularizer=l2(0.01), activation='relu'),\n",
        "    layers.MaxPool2D(pool_size=(2, 2)),\n",
        "    layers.BatchNormalization(axis=-1),\n",
        "\n",
        "    layers.Conv2D(filters=16, kernel_size=(3,3), activation='relu'),\n",
        "    layers.Conv2D(filters=32, kernel_size=(3,3), activation='relu'),\n",
        "    layers.MaxPool2D(pool_size=(2, 2)),\n",
        "    layers.BatchNormalization(axis=-1),\n",
        "\n",
        "    layers.Conv2D(filters=64, kernel_size=(3,3), activation='relu'),\n",
        "    layers.Conv2D(filters=64, kernel_size=(3,3), activation='relu'),\n",
        "    layers.MaxPool2D(pool_size=(2, 2)),\n",
        "    layers.BatchNormalization(axis=-1),\n",
        "\n",
        "    layers.Dropout(rate=0.25),\n",
        "    layers.Flatten(),\n",
        "    layers.Dense(512, activation='relu'),\n",
        "    layers.BatchNormalization(),\n",
        "    layers.Dropout(rate=0.25),\n",
        "\n",
        "    layers.Dense(85, activation='softmax')\n",
        "])"
      ]
    },
    {
      "cell_type": "code",
      "execution_count": null,
      "metadata": {
        "colab": {
          "base_uri": "https://localhost:8080/"
        },
        "id": "17VXke8Kl75D",
        "outputId": "652eec57-7d1b-41f7-df7f-4ecb043f3481"
      },
      "outputs": [
        {
          "output_type": "stream",
          "name": "stdout",
          "text": [
            "Model: \"sequential\"\n",
            "_________________________________________________________________\n",
            " Layer (type)                Output Shape              Param #   \n",
            "=================================================================\n",
            " conv2d (Conv2D)             (None, 60, 60, 16)        1216      \n",
            "                                                                 \n",
            " conv2d_1 (Conv2D)           (None, 56, 56, 32)        12832     \n",
            "                                                                 \n",
            " max_pooling2d (MaxPooling2D  (None, 28, 28, 32)       0         \n",
            " )                                                               \n",
            "                                                                 \n",
            " batch_normalization (BatchN  (None, 28, 28, 32)       128       \n",
            " ormalization)                                                   \n",
            "                                                                 \n",
            " conv2d_2 (Conv2D)           (None, 26, 26, 16)        4624      \n",
            "                                                                 \n",
            " conv2d_3 (Conv2D)           (None, 24, 24, 32)        4640      \n",
            "                                                                 \n",
            " max_pooling2d_1 (MaxPooling  (None, 12, 12, 32)       0         \n",
            " 2D)                                                             \n",
            "                                                                 \n",
            " batch_normalization_1 (Batc  (None, 12, 12, 32)       128       \n",
            " hNormalization)                                                 \n",
            "                                                                 \n",
            " conv2d_4 (Conv2D)           (None, 10, 10, 64)        18496     \n",
            "                                                                 \n",
            " conv2d_5 (Conv2D)           (None, 8, 8, 64)          36928     \n",
            "                                                                 \n",
            " max_pooling2d_2 (MaxPooling  (None, 4, 4, 64)         0         \n",
            " 2D)                                                             \n",
            "                                                                 \n",
            " batch_normalization_2 (Batc  (None, 4, 4, 64)         256       \n",
            " hNormalization)                                                 \n",
            "                                                                 \n",
            " dropout (Dropout)           (None, 4, 4, 64)          0         \n",
            "                                                                 \n",
            " flatten (Flatten)           (None, 1024)              0         \n",
            "                                                                 \n",
            " dense (Dense)               (None, 512)               524800    \n",
            "                                                                 \n",
            " batch_normalization_3 (Batc  (None, 512)              2048      \n",
            " hNormalization)                                                 \n",
            "                                                                 \n",
            " dropout_1 (Dropout)         (None, 512)               0         \n",
            "                                                                 \n",
            " dense_1 (Dense)             (None, 85)                43605     \n",
            "                                                                 \n",
            "=================================================================\n",
            "Total params: 649,701\n",
            "Trainable params: 648,421\n",
            "Non-trainable params: 1,280\n",
            "_________________________________________________________________\n"
          ]
        }
      ],
      "source": [
        "model.summary()"
      ]
    },
    {
      "cell_type": "code",
      "execution_count": null,
      "metadata": {
        "id": "a51Gwrahl9Am"
      },
      "outputs": [],
      "source": [
        "from tensorflow import keras\n",
        "\n",
        "model.compile(optimizer=keras.optimizers.Adam(learning_rate=0.001), loss='categorical_crossentropy', metrics=['accuracy'])"
      ]
    },
    {
      "cell_type": "code",
      "execution_count": null,
      "metadata": {
        "id": "b_RopFvhBPtL"
      },
      "outputs": [],
      "source": [
        "from tensorflow.keras import callbacks\n",
        "\n",
        "\n",
        "early_stopping = callbacks.EarlyStopping(\n",
        "    min_delta=0.001, # minimium amount of change to count as an improvement\n",
        "    patience=20, # how many epochs to wait before stopping\n",
        "    restore_best_weights=True,\n",
        ")"
      ]
    },
    {
      "cell_type": "code",
      "execution_count": null,
      "metadata": {
        "colab": {
          "base_uri": "https://localhost:8080/",
          "height": 1000
        },
        "id": "TRuGz9dOmDaO",
        "outputId": "152e1a92-83b1-4ecf-8352-afc46d45adc8"
      },
      "outputs": [
        {
          "output_type": "stream",
          "name": "stdout",
          "text": [
            "Epoch 1/20\n",
            "111/111 [==============================] - 54s 325ms/step - loss: 2.9446 - accuracy: 0.4193 - val_loss: 3.6890 - val_accuracy: 0.2041\n",
            "Epoch 2/20\n",
            "111/111 [==============================] - 38s 313ms/step - loss: 1.4258 - accuracy: 0.6891 - val_loss: 1.6124 - val_accuracy: 0.6347\n",
            "Epoch 3/20\n",
            "111/111 [==============================] - 36s 308ms/step - loss: 0.9735 - accuracy: 0.7910 - val_loss: 0.7704 - val_accuracy: 0.8388\n",
            "Epoch 4/20\n",
            "111/111 [==============================] - 36s 305ms/step - loss: 0.6796 - accuracy: 0.8640 - val_loss: 0.4927 - val_accuracy: 0.9256\n",
            "Epoch 5/20\n",
            "111/111 [==============================] - 39s 317ms/step - loss: 0.4993 - accuracy: 0.9088 - val_loss: 0.4127 - val_accuracy: 0.9436\n",
            "Epoch 6/20\n",
            "111/111 [==============================] - 37s 307ms/step - loss: 0.3768 - accuracy: 0.9361 - val_loss: 0.3779 - val_accuracy: 0.9425\n",
            "Epoch 7/20\n",
            "111/111 [==============================] - 38s 321ms/step - loss: 0.3164 - accuracy: 0.9521 - val_loss: 0.4051 - val_accuracy: 0.9357\n",
            "Epoch 8/20\n",
            "111/111 [==============================] - 38s 320ms/step - loss: 0.2727 - accuracy: 0.9645 - val_loss: 0.2691 - val_accuracy: 0.9707\n",
            "Epoch 9/20\n",
            "111/111 [==============================] - 36s 301ms/step - loss: 0.2455 - accuracy: 0.9668 - val_loss: 0.3280 - val_accuracy: 0.9538\n",
            "Epoch 10/20\n",
            "111/111 [==============================] - 36s 300ms/step - loss: 0.2244 - accuracy: 0.9704 - val_loss: 0.2603 - val_accuracy: 0.9707\n",
            "Epoch 11/20\n",
            "111/111 [==============================] - 37s 299ms/step - loss: 0.1921 - accuracy: 0.9780 - val_loss: 0.2349 - val_accuracy: 0.9741\n",
            "Epoch 12/20\n",
            "111/111 [==============================] - 39s 327ms/step - loss: 0.1719 - accuracy: 0.9817 - val_loss: 0.2420 - val_accuracy: 0.9718\n",
            "Epoch 13/20\n",
            "111/111 [==============================] - 36s 298ms/step - loss: 0.1671 - accuracy: 0.9803 - val_loss: 0.2422 - val_accuracy: 0.9718\n",
            "Epoch 14/20\n",
            "111/111 [==============================] - 37s 313ms/step - loss: 0.1515 - accuracy: 0.9834 - val_loss: 0.2279 - val_accuracy: 0.9707\n",
            "Epoch 15/20\n",
            "111/111 [==============================] - 36s 306ms/step - loss: 0.1606 - accuracy: 0.9809 - val_loss: 0.3269 - val_accuracy: 0.9369\n",
            "Epoch 16/20\n",
            "111/111 [==============================] - 37s 318ms/step - loss: 0.1621 - accuracy: 0.9749 - val_loss: 0.2608 - val_accuracy: 0.9605\n",
            "Epoch 17/20\n",
            "111/111 [==============================] - 37s 300ms/step - loss: 0.1616 - accuracy: 0.9724 - val_loss: 0.3216 - val_accuracy: 0.9436\n",
            "Epoch 18/20\n",
            "111/111 [==============================] - 37s 316ms/step - loss: 0.1391 - accuracy: 0.9800 - val_loss: 0.2155 - val_accuracy: 0.9673\n",
            "Epoch 19/20\n",
            "111/111 [==============================] - 37s 318ms/step - loss: 0.1868 - accuracy: 0.9676 - val_loss: 0.2355 - val_accuracy: 0.9628\n",
            "Epoch 20/20\n",
            "111/111 [==============================] - 36s 301ms/step - loss: 0.1748 - accuracy: 0.9662 - val_loss: 0.2452 - val_accuracy: 0.9662\n"
          ]
        },
        {
          "output_type": "display_data",
          "data": {
            "text/plain": [
              "<Figure size 640x480 with 1 Axes>"
            ],
            "image/png": "[encoded data removed]"
          },
          "metadata": {}
        },
        {
          "output_type": "display_data",
          "data": {
            "text/plain": [
              "<Figure size 640x480 with 1 Axes>"
            ],
            "image/png": "[encoded data removed]"
          },
          "metadata": {}
        }
      ],
      "source": [
        "history=model.fit(train, epochs=20, validation_data=validate, callbacks=[early_stopping])\n",
        "\n",
        "import pandas as pd\n",
        "history_frame = pd.DataFrame(history.history)\n",
        "history_frame.loc[:, ['loss', 'val_loss']].plot()\n",
        "history_frame.loc[:, ['accuracy', 'val_accuracy']].plot();"
      ]
    },
    {
      "cell_type": "code",
      "execution_count": null,
      "metadata": {
        "id": "NldRS5UqvZc9",
        "colab": {
          "base_uri": "https://localhost:8080/"
        },
        "outputId": "86ae2de2-caa6-4c35-c55a-8223ef69e4a9"
      },
      "outputs": [
        {
          "output_type": "stream",
          "name": "stdout",
          "text": [
            "41/41 [==============================] - 4s 95ms/step - loss: 0.8948 - accuracy: 0.8517\n",
            "Test Loss: 0.894781768321991\n",
            "Test Accuracy: 0.8517080545425415\n"
          ]
        }
      ],
      "source": [
        "test_loss, test_accuracy = model.evaluate(test)\n",
        "\n",
        "print(\"Test Loss:\", test_loss)\n",
        "print(\"Test Accuracy:\", test_accuracy)"
      ]
    },
    {
      "cell_type": "code",
      "source": [
        "model.save('/content/drive/MyDrive/Deep_Learning/model_85_17.h5')"
      ],
      "metadata": {
        "id": "e8lORu3XbWia"
      },
      "execution_count": null,
      "outputs": []
    },
    {
      "cell_type": "code",
      "source": [
        "import tensorflow as tf\n",
        "\n",
        "model2 = tf.keras.models.load_model('/content/drive/MyDrive/Deep_Learning/model_85_17.h5')\n",
        "\n",
        "test_loss, test_accuracy = model2.evaluate(test)\n",
        "\n",
        "print(\"Test Loss:\", test_loss)\n",
        "print(\"Test Accuracy:\", test_accuracy)\n"
      ],
      "metadata": {
        "id": "RDzFPo8Ofpn8",
        "colab": {
          "base_uri": "https://localhost:8080/"
        },
        "outputId": "1a68c54a-df88-4488-a9d0-05b368d7dad5"
      },
      "execution_count": 8,
      "outputs": [
        {
          "output_type": "stream",
          "name": "stdout",
          "text": [
            "41/41 [==============================] - 9s 188ms/step - loss: 0.8948 - accuracy: 0.8517\n",
            "Test Loss: 0.894781768321991\n",
            "Test Accuracy: 0.8517080545425415\n"
          ]
        }
      ]
    },
    {
      "cell_type": "code",
      "source": [
        "from tensorflow.keras.preprocessing import image\n",
        "import numpy as np\n",
        "import matplotlib.pyplot as plt\n",
        "\n",
        "\n",
        "new_image_path = '/content/drive/MyDrive/Deep_Learning/images (1).png'\n",
        "img = image.load_img(new_image_path, target_size=(64, 64))\n",
        "img_array = image.img_to_array(img)\n",
        "img_array = np.expand_dims(img_array, axis=0)\n",
        "\n",
        "predictions = model2.predict(img_array)\n",
        "\n",
        "\n",
        "img_array = np.reshape(img_array, (1, 64, 64, 3))\n",
        "img_array = img_array/255.0\n",
        "plt.figure(figsize=(8, 4))\n",
        "plt.imshow(img_array[0])\n",
        "plt.title(\"Input Image\")\n",
        "plt.axis('off')\n",
        "\n",
        "plt.show()"
      ],
      "metadata": {
        "colab": {
          "base_uri": "https://localhost:8080/",
          "height": 384
        },
        "id": "XfythRAgA0cO",
        "outputId": "cd2b4d06-7de5-431e-f087-49fa65a24d26"
      },
      "execution_count": 66,
      "outputs": [
        {
          "output_type": "stream",
          "name": "stdout",
          "text": [
            "1/1 [==============================] - 0s 115ms/step\n"
          ]
        },
        {
          "output_type": "display_data",
          "data": {
            "text/plain": [
              "<Figure size 800x400 with 1 Axes>"
            ],
            "image/png": "[encoded data removed]"
          },
          "metadata": {}
        }
      ]
    },
    {
      "cell_type": "code",
      "source": [
        "predicted_class_index = np.argmax(predictions)\n",
        "print(predicted_class_index, signs[predicted_class_index])"
      ],
      "metadata": {
        "colab": {
          "base_uri": "https://localhost:8080/"
        },
        "id": "CfqTfcjNB-a7",
        "outputId": "af2ed370-e6ad-4330-a3d3-2e92b0fee485"
      },
      "execution_count": 61,
      "outputs": [
        {
          "output_type": "stream",
          "name": "stdout",
          "text": [
            "43 NO_PARKING\n"
          ]
        }
      ]
    },
    {
      "cell_type": "code",
      "source": [
        "\n",
        "new_image_path = '/content/drive/MyDrive/Deep_Learning/Indian_Road_Sign_II-22.svg.png'\n",
        "img = image.load_img(new_image_path, target_size=(64, 64))\n",
        "img_array = image.img_to_array(img)\n",
        "img_array = np.expand_dims(img_array, axis=0)\n",
        "\n",
        "predictions = model2.predict(img_array)\n",
        "\n",
        "\n",
        "img_array = np.reshape(img_array, (1, 64, 64, 3))\n",
        "img_array = img_array/255.0\n",
        "plt.figure(figsize=(8, 4))\n",
        "plt.imshow(img_array[0])\n",
        "plt.title(\"Input Image\")\n",
        "plt.axis('off')\n",
        "\n",
        "plt.show()\n",
        "\n",
        "predicted_class_index = np.argmax(predictions)\n",
        "print(predicted_class_index, signs[predicted_class_index])"
      ],
      "metadata": {
        "colab": {
          "base_uri": "https://localhost:8080/",
          "height": 402
        },
        "id": "RDX12qYnHeBO",
        "outputId": "d58e4b95-5c4b-4d5b-9bc6-7c2f3be78b21"
      },
      "execution_count": 70,
      "outputs": [
        {
          "output_type": "stream",
          "name": "stdout",
          "text": [
            "1/1 [==============================] - 0s 41ms/step\n"
          ]
        },
        {
          "output_type": "display_data",
          "data": {
            "text/plain": [
              "<Figure size 800x400 with 1 Axes>"
            ],
            "image/png": "[encoded data removed]"
          },
          "metadata": {}
        },
        {
          "output_type": "stream",
          "name": "stdout",
          "text": [
            "56 ROAD_WIDENS_AHEAD\n"
          ]
        }
      ]
    },
    {
      "cell_type": "code",
      "source": [
        "new_image_path = '/content/drive/MyDrive/Deep_Learning/images.png'\n",
        "img = image.load_img(new_image_path, target_size=(64, 64))\n",
        "img_array = image.img_to_array(img)\n",
        "img_array = np.expand_dims(img_array, axis=0)\n",
        "\n",
        "predictions = model2.predict(img_array)\n",
        "\n",
        "\n",
        "img_array = np.reshape(img_array, (1, 64, 64, 3))\n",
        "img_array = img_array/255.0\n",
        "plt.figure(figsize=(8, 4))\n",
        "plt.imshow(img_array[0])\n",
        "plt.title(\"Input Image\")\n",
        "plt.axis('off')\n",
        "\n",
        "plt.show()\n",
        "\n",
        "predicted_class_index = np.argmax(predictions)\n",
        "print(predicted_class_index, signs[predicted_class_index])"
      ],
      "metadata": {
        "colab": {
          "base_uri": "https://localhost:8080/",
          "height": 402
        },
        "id": "wEIyljBlHlep",
        "outputId": "e8e5c7e5-3c2e-4e90-c5b6-15904622c580"
      },
      "execution_count": 72,
      "outputs": [
        {
          "output_type": "stream",
          "name": "stdout",
          "text": [
            "1/1 [==============================] - 0s 28ms/step\n"
          ]
        },
        {
          "output_type": "display_data",
          "data": {
            "text/plain": [
              "<Figure size 800x400 with 1 Axes>"
            ],
            "image/png": "[encoded data removed]"
          },
          "metadata": {}
        },
        {
          "output_type": "stream",
          "name": "stdout",
          "text": [
            "82 U_TURN_PROHIBITED\n"
          ]
        }
      ]
    },
    {
      "cell_type": "code",
      "source": [
        "new_image_path = '/content/drive/MyDrive/Deep_Learning/164cb158a793db1037749d166bf5d483.jpg'\n",
        "img = image.load_img(new_image_path, target_size=(64, 64))\n",
        "img_array = image.img_to_array(img)\n",
        "img_array = np.expand_dims(img_array, axis=0)\n",
        "\n",
        "predictions = model2.predict(img_array)\n",
        "\n",
        "\n",
        "img_array = np.reshape(img_array, (1, 64, 64, 3))\n",
        "img_array = img_array/255.0\n",
        "plt.figure(figsize=(8, 4))\n",
        "plt.imshow(img_array[0])\n",
        "plt.title(\"Input Image\")\n",
        "plt.axis('off')\n",
        "\n",
        "plt.show()\n",
        "\n",
        "predicted_class_index = np.argmax(predictions)\n",
        "print(predicted_class_index, signs[predicted_class_index])"
      ],
      "metadata": {
        "colab": {
          "base_uri": "https://localhost:8080/",
          "height": 402
        },
        "id": "fhR2yGT2IOJE",
        "outputId": "412a459e-5e4b-49db-fd22-9a384a8efbf5"
      },
      "execution_count": 74,
      "outputs": [
        {
          "output_type": "stream",
          "name": "stdout",
          "text": [
            "1/1 [==============================] - 0s 181ms/step\n"
          ]
        },
        {
          "output_type": "display_data",
          "data": {
            "text/plain": [
              "<Figure size 800x400 with 1 Axes>"
            ],
            "image/png": "[encoded data removed]"
          },
          "metadata": {}
        },
        {
          "output_type": "stream",
          "name": "stdout",
          "text": [
            "82 U_TURN_PROHIBITED\n"
          ]
        }
      ]
    },
    {
      "cell_type": "code",
      "source": [
        "new_image_path = '/content/drive/MyDrive/Deep_Learning/UK_traffic_sign_545.svg.png'\n",
        "img = image.load_img(new_image_path, target_size=(64, 64))\n",
        "img_array = image.img_to_array(img)\n",
        "img_array = np.expand_dims(img_array, axis=0)\n",
        "\n",
        "predictions = model2.predict(img_array)\n",
        "\n",
        "\n",
        "img_array = np.reshape(img_array, (1, 64, 64, 3))\n",
        "img_array = img_array/255.0\n",
        "plt.figure(figsize=(8, 4))\n",
        "plt.imshow(img_array[0])\n",
        "plt.title(\"Input Image\")\n",
        "plt.axis('off')\n",
        "\n",
        "plt.show()\n",
        "\n",
        "predicted_class_index = np.argmax(predictions)\n",
        "print(predicted_class_index, signs[predicted_class_index])"
      ],
      "metadata": {
        "colab": {
          "base_uri": "https://localhost:8080/",
          "height": 402
        },
        "id": "V1DpEXbkI1H1",
        "outputId": "788ddb53-05a8-46c0-b736-cee26e0a0c21"
      },
      "execution_count": 75,
      "outputs": [
        {
          "output_type": "stream",
          "name": "stdout",
          "text": [
            "1/1 [==============================] - 0s 44ms/step\n"
          ]
        },
        {
          "output_type": "display_data",
          "data": {
            "text/plain": [
              "<Figure size 800x400 with 1 Axes>"
            ],
            "image/png": "[encoded data removed]"
          },
          "metadata": {}
        },
        {
          "output_type": "stream",
          "name": "stdout",
          "text": [
            "58 SCHOOL_AHEAD\n"
          ]
        }
      ]
    }
  ],
  "metadata": {
    "colab": {
      "provenance": [],
      "authorship_tag": "ABX9TyONC+YRbNk7Xkd+lZmwDnVU",
      "include_colab_link": true
    },
    "kernelspec": {
      "display_name": "Python 3",
      "name": "python3"
    },
    "language_info": {
      "name": "python"
    }
  },
  "nbformat": 4,
  "nbformat_minor": 0
}
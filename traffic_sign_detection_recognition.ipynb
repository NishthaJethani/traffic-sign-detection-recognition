{
  "nbformat": 4,
  "nbformat_minor": 0,
  "metadata": {
    "colab": {
      "provenance": [],
      "gpuType": "T4",
      "authorship_tag": "ABX9TyONzuujO/FfjX7d/4ytouu+",
      "include_colab_link": true
    },
    "kernelspec": {
      "name": "python3",
      "display_name": "Python 3"
    },
    "language_info": {
      "name": "python"
    },
    "accelerator": "GPU"
  },
  "cells": [
    {
      "cell_type": "markdown",
      "metadata": {
        "id": "view-in-github",
        "colab_type": "text"
      },
      "source": [
        "<a href=\"https://colab.research.google.com/github/NishthaJethani/traffic-sign-detection-recognition/blob/main/traffic_sign_detection_recognition.ipynb\" target=\"_parent\"><img src=\"https://colab.research.google.com/assets/colab-badge.svg\" alt=\"Open In Colab\"/></a>"
      ]
    },
    {
      "cell_type": "code",
      "execution_count": 1,
      "metadata": {
        "id": "WwWbirvVfzYy",
        "colab": {
          "base_uri": "https://localhost:8080/"
        },
        "outputId": "11560db8-68b4-45d9-8f96-b0c406fd9455"
      },
      "outputs": [
        {
          "output_type": "stream",
          "name": "stdout",
          "text": [
            "Mounted at /content/drive\n"
          ]
        }
      ],
      "source": [
        "from google.colab import drive\n",
        "\n",
        "drive.mount('/content/drive')\n",
        "\n",
        "kaggle_api_key = \"/content/drive/My Drive/kaggle.json\"\n"
      ]
    },
    {
      "cell_type": "code",
      "source": [
        "import os\n",
        "os.environ[\"KAGGLE_CONFIG_DIR\"] = \"/content/\"\n",
        "!cp \"{kaggle_api_key}\" /content/kaggle.json\n",
        "!chmod 600 /content/kaggle.json\n"
      ],
      "metadata": {
        "id": "_y7nxsaAH8kn"
      },
      "execution_count": 2,
      "outputs": []
    },
    {
      "cell_type": "code",
      "source": [
        "import kaggle\n",
        "\n",
        "kaggle_dataset_name = \"sarangdilipjodh/indian-traffic-signs-prediction85-classes\"\n",
        "\n",
        "# Replace 'destination_directory' with the desired destination within your Colab environment\n",
        "destination_directory = \"/content/dataset/\"\n",
        "\n",
        "# Use the Kaggle API to load the dataset without downloading it\n",
        "kaggle.api.dataset_download_files(kaggle_dataset_name, path=destination_directory, unzip=True)\n"
      ],
      "metadata": {
        "id": "47zIHErPKu30"
      },
      "execution_count": 3,
      "outputs": []
    },
    {
      "cell_type": "code",
      "source": [
        "extracted_files=os.listdir(\"/content/dataset/traffic_sign_classification_dataset\")\n",
        "print(extracted_files)"
      ],
      "metadata": {
        "colab": {
          "base_uri": "https://localhost:8080/"
        },
        "id": "Nz53GXGBMByR",
        "outputId": "189d1b82-752d-4c17-e416-5954e898498d"
      },
      "execution_count": 4,
      "outputs": [
        {
          "output_type": "stream",
          "name": "stdout",
          "text": [
            "['test', 'train']\n"
          ]
        }
      ]
    },
    {
      "cell_type": "code",
      "source": [
        "from tensorflow.keras.preprocessing import image_dataset_from_directory\n",
        "\n",
        "train_data_dir = '/content/dataset/traffic_sign_classification_dataset/train'\n",
        "test_data_dir='/content/dataset/traffic_sign_classification_dataset/test'\n",
        "\n",
        "train=image_dataset_from_directory(\n",
        "    train_data_dir,\n",
        "    labels='inferred',\n",
        "    label_mode='categorical',\n",
        "    image_size=[128,128],\n",
        "    interpolation='nearest',\n",
        "    validation_split=0.2,\n",
        "    batch_size=64,\n",
        "    shuffle=True,\n",
        "    seed=42,\n",
        "    subset=\"training\",\n",
        ")\n",
        "\n",
        "validate=image_dataset_from_directory(\n",
        "    train_data_dir,\n",
        "    labels='inferred',\n",
        "    label_mode='categorical',\n",
        "    image_size=[128,128],\n",
        "    interpolation='nearest',\n",
        "    validation_split=0.2,\n",
        "    batch_size=64,\n",
        "    shuffle=False,\n",
        "    seed=42,\n",
        "    subset=\"validation\",\n",
        ")\n",
        "\n",
        "test=image_dataset_from_directory(\n",
        "    test_data_dir,\n",
        "    labels='inferred',\n",
        "    label_mode='categorical',\n",
        "    image_size=[128,128],\n",
        "    interpolation='nearest',\n",
        "    batch_size=64,\n",
        "    shuffle=False,\n",
        ")\n"
      ],
      "metadata": {
        "colab": {
          "base_uri": "https://localhost:8080/"
        },
        "id": "mlzVIuN4MTql",
        "outputId": "fdb93b97-23c5-4553-baf2-5366b1132a90"
      },
      "execution_count": 5,
      "outputs": [
        {
          "output_type": "stream",
          "name": "stdout",
          "text": [
            "Found 4438 files belonging to 85 classes.\n",
            "Using 3551 files for training.\n",
            "Found 4438 files belonging to 85 classes.\n",
            "Using 887 files for validation.\n",
            "Found 1288 files belonging to 85 classes.\n"
          ]
        }
      ]
    },
    {
      "cell_type": "code",
      "source": [
        "signs=[]\n",
        "\n",
        "all_signs=os.listdir(train_data_dir)\n",
        "\n",
        "for item in all_signs:\n",
        "  signs.append(item)\n",
        "\n",
        "\n",
        "\n",
        "signs"
      ],
      "metadata": {
        "colab": {
          "base_uri": "https://localhost:8080/"
        },
        "id": "Aqz4WPTiarMj",
        "outputId": "6781b6b4-da45-4d8d-e82e-8f3db702e670"
      },
      "execution_count": 26,
      "outputs": [
        {
          "output_type": "execute_result",
          "data": {
            "text/plain": [
              "['WIDTH_LIMIT',\n",
              " 'SPEED_LIMIT_80',\n",
              " 'STOP',\n",
              " 'CATTLE',\n",
              " 'NO_ENTRY',\n",
              " 'SLIPPERY_ROAD',\n",
              " 'TRAFFIC_SIGNAL',\n",
              " 'ROAD_WIDENS_AHEAD',\n",
              " 'SPEED_LIMIT_30',\n",
              " 'TONGA_PROHIBITED',\n",
              " 'LOOSE_GRAVEL',\n",
              " 'PEDESTRIAN_CROSSING',\n",
              " 'STRAIGHT_PROHIBITED',\n",
              " 'QUAY_SIDE_OR_RIVER_BANK',\n",
              " 'GAP_IN_MEDIAN',\n",
              " 'RIGHT_TURN_PROHIBITED',\n",
              " 'STEEP_ASCENT',\n",
              " 'COMPULSARY_TURN_RIGHT',\n",
              " 'PEDESTRIAN_PROHIBITED',\n",
              " 'COMPULSARY_CYCLE_TRACK',\n",
              " 'HANDCART_PROHIBITED',\n",
              " 'SCHOOL_AHEAD',\n",
              " 'SPEED_LIMIT_40',\n",
              " 'GIVE_WAY',\n",
              " 'CYCLE_PROHIBITED',\n",
              " 'COMPULSARY_TURN_RIGHT_AHEAD',\n",
              " 'LEFT_REVERSE_BEND',\n",
              " 'COMPULSARY_SOUND_HORN',\n",
              " 'RIGHT_HAND_CURVE',\n",
              " 'TRUCK_PROHIBITED',\n",
              " 'SIDE_ROAD_RIGHT',\n",
              " 'PASS_EITHER_SIDE',\n",
              " 'ALL_MOTOR_VEHICLE_PROHIBITED',\n",
              " 'CYCLE_CROSSING',\n",
              " 'LEFT_TURN_PROHIBITED',\n",
              " 'BULLOCK_AND_HANDCART_PROHIBITED',\n",
              " 'COMPULSARY_KEEP_RIGHT',\n",
              " 'HUMP_OR_ROUGH_ROAD',\n",
              " 'COMPULSARY_TURN_LEFT',\n",
              " 'RIGHT_REVERSE_BEND',\n",
              " 'COMPULSARY_TURN_LEFT_AHEAD',\n",
              " 'DANGEROUS_DIP',\n",
              " 'FERRY',\n",
              " 'COMPULSARY_MINIMUM_SPEED',\n",
              " 'SPEED_LIMIT_5',\n",
              " 'TURN_RIGHT',\n",
              " 'BULLOCK_PROHIBITED',\n",
              " 'LEFT_HAIR_PIN_BEND',\n",
              " 'DIRECTION',\n",
              " 'SIDE_ROAD_LEFT',\n",
              " 'ROUNDABOUT',\n",
              " 'COMPULSARY_AHEAD_OR_TURN_LEFT',\n",
              " 'U_TURN_PROHIBITED',\n",
              " 'LOAD_LIMIT',\n",
              " 'UNGUARDED_LEVEL_CROSSING',\n",
              " 'NARROW_BRIDGE',\n",
              " 'RESTRICTION_ENDS',\n",
              " 'COMPULSARY_KEEP_LEFT',\n",
              " 'T_INTERSECTION',\n",
              " 'COMPULSARY_AHEAD_OR_TURN_RIGHT',\n",
              " 'Y_INTERSECTION',\n",
              " 'HORN_PROHIBITED',\n",
              " 'HEIGHT_LIMIT',\n",
              " 'SPEED_LIMIT_20',\n",
              " 'NARROW_ROAD_AHEAD',\n",
              " 'LENGTH_LIMIT',\n",
              " 'STAGGERED_INTERSECTION',\n",
              " 'MEN_AT_WORK',\n",
              " 'NO_STOPPING_OR_STANDING',\n",
              " 'FALLING_ROCKS',\n",
              " 'SPEED_LIMIT_15',\n",
              " 'COMPULSARY_AHEAD',\n",
              " 'SPEED_LIMIT_70',\n",
              " 'NO_PARKING',\n",
              " 'BARRIER_AHEAD',\n",
              " 'RIGHT_HAIR_PIN_BEND',\n",
              " 'STEEP_DESCENT',\n",
              " 'PRIORITY_FOR_ONCOMING_VEHICLES',\n",
              " 'OVERTAKING_PROHIBITED',\n",
              " 'SPEED_LIMIT_50',\n",
              " 'LEFT_HAND_CURVE',\n",
              " 'GUARDED_LEVEL_CROSSING',\n",
              " 'SPEED_LIMIT_60',\n",
              " 'AXLE_LOAD_LIMIT',\n",
              " 'CROSS_ROAD']"
            ]
          },
          "metadata": {},
          "execution_count": 26
        }
      ]
    },
    {
      "cell_type": "code",
      "source": [
        "from tensorflow.keras import models, layers\n",
        "\n",
        "model=models.Sequential([\n",
        "    layers.Conv2D(filters=16, kernel_size=(5,5), activation='relu', input_shape=(128,128,3)),\n",
        "    layers.Conv2D(filters=32, kernel_size=(5,5), activation='relu'),\n",
        "    layers.MaxPool2D(pool_size=(2, 2)),\n",
        "    layers.BatchNormalization(axis=-1),\n",
        "\n",
        "    layers.Conv2D(filters=64, kernel_size=(3,3), activation='relu'),\n",
        "    layers.Conv2D(filters=64, kernel_size=(3,3), activation='relu'),\n",
        "    layers.MaxPool2D(pool_size=(2, 2)),\n",
        "    layers.BatchNormalization(axis=-1),\n",
        "    layers.Dropout(rate=0.25),\n",
        "    layers.Flatten(),\n",
        "    layers.Dense(512, activation='relu'),\n",
        "    layers.BatchNormalization(),\n",
        "    layers.Dropout(rate=0.25),\n",
        "\n",
        "    layers.Dense(85, activation='softmax')\n",
        "])"
      ],
      "metadata": {
        "id": "N7JGuh7xbQiI"
      },
      "execution_count": 12,
      "outputs": []
    },
    {
      "cell_type": "code",
      "source": [
        "model.summary()"
      ],
      "metadata": {
        "colab": {
          "base_uri": "https://localhost:8080/"
        },
        "id": "17VXke8Kl75D",
        "outputId": "927ee015-69fe-4310-9f75-f55942e87a42"
      },
      "execution_count": 13,
      "outputs": [
        {
          "output_type": "stream",
          "name": "stdout",
          "text": [
            "Model: \"sequential_1\"\n",
            "_________________________________________________________________\n",
            " Layer (type)                Output Shape              Param #   \n",
            "=================================================================\n",
            " conv2d_4 (Conv2D)           (None, 124, 124, 16)      1216      \n",
            "                                                                 \n",
            " conv2d_5 (Conv2D)           (None, 120, 120, 32)      12832     \n",
            "                                                                 \n",
            " max_pooling2d_2 (MaxPooling  (None, 60, 60, 32)       0         \n",
            " 2D)                                                             \n",
            "                                                                 \n",
            " batch_normalization_3 (Batc  (None, 60, 60, 32)       128       \n",
            " hNormalization)                                                 \n",
            "                                                                 \n",
            " conv2d_6 (Conv2D)           (None, 58, 58, 64)        18496     \n",
            "                                                                 \n",
            " conv2d_7 (Conv2D)           (None, 56, 56, 64)        36928     \n",
            "                                                                 \n",
            " max_pooling2d_3 (MaxPooling  (None, 28, 28, 64)       0         \n",
            " 2D)                                                             \n",
            "                                                                 \n",
            " batch_normalization_4 (Batc  (None, 28, 28, 64)       256       \n",
            " hNormalization)                                                 \n",
            "                                                                 \n",
            " dropout_2 (Dropout)         (None, 28, 28, 64)        0         \n",
            "                                                                 \n",
            " flatten_1 (Flatten)         (None, 50176)             0         \n",
            "                                                                 \n",
            " dense_2 (Dense)             (None, 512)               25690624  \n",
            "                                                                 \n",
            " batch_normalization_5 (Batc  (None, 512)              2048      \n",
            " hNormalization)                                                 \n",
            "                                                                 \n",
            " dropout_3 (Dropout)         (None, 512)               0         \n",
            "                                                                 \n",
            " dense_3 (Dense)             (None, 85)                43605     \n",
            "                                                                 \n",
            "=================================================================\n",
            "Total params: 25,806,133\n",
            "Trainable params: 25,804,917\n",
            "Non-trainable params: 1,216\n",
            "_________________________________________________________________\n"
          ]
        }
      ]
    },
    {
      "cell_type": "code",
      "source": [
        "from tensorflow import keras\n",
        "\n",
        "model.compile(optimizer=keras.optimizers.Adam(learning_rate=0.01), loss='categorical_crossentropy', metrics=['accuracy'])\n"
      ],
      "metadata": {
        "id": "a51Gwrahl9Am"
      },
      "execution_count": 14,
      "outputs": []
    },
    {
      "cell_type": "code",
      "source": [
        "history=model.fit(train, epochs=50, validation_data=validate)\n",
        "\n",
        "import pandas as pd\n",
        "history_frame = pd.DataFrame(history.history)\n",
        "history_frame.loc[:, ['loss', 'val_loss']].plot()\n",
        "history_frame.loc[:, ['accuracy', 'val_accuracy']].plot();"
      ],
      "metadata": {
        "colab": {
          "base_uri": "https://localhost:8080/",
          "height": 1000
        },
        "id": "TRuGz9dOmDaO",
        "outputId": "74ef6589-d8a8-406c-c47e-db5b7e9446d5"
      },
      "execution_count": 15,
      "outputs": [
        {
          "output_type": "stream",
          "name": "stdout",
          "text": [
            "Epoch 1/50\n",
            "56/56 [==============================] - 55s 618ms/step - loss: 3.5287 - accuracy: 0.3171 - val_loss: 28.1257 - val_accuracy: 0.0902\n",
            "Epoch 2/50\n",
            "56/56 [==============================] - 39s 578ms/step - loss: 1.9184 - accuracy: 0.5810 - val_loss: 2.6415 - val_accuracy: 0.4927\n",
            "Epoch 3/50\n",
            "56/56 [==============================] - 38s 606ms/step - loss: 1.0066 - accuracy: 0.7415 - val_loss: 1.5496 - val_accuracy: 0.6088\n",
            "Epoch 4/50\n",
            "56/56 [==============================] - 36s 566ms/step - loss: 0.5845 - accuracy: 0.8417 - val_loss: 0.3555 - val_accuracy: 0.9245\n",
            "Epoch 5/50\n",
            "56/56 [==============================] - 38s 573ms/step - loss: 0.3361 - accuracy: 0.9099 - val_loss: 0.5257 - val_accuracy: 0.8940\n",
            "Epoch 6/50\n",
            "56/56 [==============================] - 39s 583ms/step - loss: 0.1875 - accuracy: 0.9516 - val_loss: 0.2531 - val_accuracy: 0.9324\n",
            "Epoch 7/50\n",
            "56/56 [==============================] - 39s 579ms/step - loss: 0.1109 - accuracy: 0.9701 - val_loss: 0.3597 - val_accuracy: 0.8974\n",
            "Epoch 8/50\n",
            "56/56 [==============================] - 39s 609ms/step - loss: 0.1106 - accuracy: 0.9727 - val_loss: 0.1098 - val_accuracy: 0.9775\n",
            "Epoch 9/50\n",
            "56/56 [==============================] - 38s 602ms/step - loss: 0.1017 - accuracy: 0.9747 - val_loss: 0.1335 - val_accuracy: 0.9729\n",
            "Epoch 10/50\n",
            "56/56 [==============================] - 37s 582ms/step - loss: 0.0839 - accuracy: 0.9825 - val_loss: 0.1417 - val_accuracy: 0.9684\n",
            "Epoch 11/50\n",
            "56/56 [==============================] - 37s 586ms/step - loss: 0.0556 - accuracy: 0.9893 - val_loss: 0.0870 - val_accuracy: 0.9786\n",
            "Epoch 12/50\n",
            "56/56 [==============================] - 37s 568ms/step - loss: 0.0579 - accuracy: 0.9885 - val_loss: 0.1452 - val_accuracy: 0.9718\n",
            "Epoch 13/50\n",
            "56/56 [==============================] - 37s 572ms/step - loss: 0.0560 - accuracy: 0.9865 - val_loss: 0.2912 - val_accuracy: 0.9267\n",
            "Epoch 14/50\n",
            "56/56 [==============================] - 38s 570ms/step - loss: 0.0568 - accuracy: 0.9845 - val_loss: 0.1457 - val_accuracy: 0.9639\n",
            "Epoch 15/50\n",
            "56/56 [==============================] - 38s 595ms/step - loss: 0.0627 - accuracy: 0.9868 - val_loss: 0.2106 - val_accuracy: 0.9628\n",
            "Epoch 16/50\n",
            "56/56 [==============================] - 36s 560ms/step - loss: 0.0465 - accuracy: 0.9879 - val_loss: 0.1209 - val_accuracy: 0.9752\n",
            "Epoch 17/50\n",
            "56/56 [==============================] - 38s 562ms/step - loss: 0.0490 - accuracy: 0.9879 - val_loss: 0.1637 - val_accuracy: 0.9538\n",
            "Epoch 18/50\n",
            "56/56 [==============================] - 37s 588ms/step - loss: 0.0529 - accuracy: 0.9862 - val_loss: 0.2504 - val_accuracy: 0.9267\n",
            "Epoch 19/50\n",
            "56/56 [==============================] - 36s 563ms/step - loss: 0.0490 - accuracy: 0.9859 - val_loss: 0.4124 - val_accuracy: 0.9132\n",
            "Epoch 20/50\n",
            "56/56 [==============================] - 36s 562ms/step - loss: 0.0524 - accuracy: 0.9865 - val_loss: 0.1946 - val_accuracy: 0.9572\n",
            "Epoch 21/50\n",
            "56/56 [==============================] - 38s 569ms/step - loss: 0.1282 - accuracy: 0.9699 - val_loss: 0.2491 - val_accuracy: 0.9481\n",
            "Epoch 22/50\n",
            "56/56 [==============================] - 38s 568ms/step - loss: 0.1147 - accuracy: 0.9687 - val_loss: 3.3776 - val_accuracy: 0.9560\n",
            "Epoch 23/50\n",
            "56/56 [==============================] - 38s 588ms/step - loss: 0.1273 - accuracy: 0.9718 - val_loss: 0.2220 - val_accuracy: 0.9459\n",
            "Epoch 24/50\n",
            "56/56 [==============================] - 36s 568ms/step - loss: 0.0901 - accuracy: 0.9783 - val_loss: 3.2135 - val_accuracy: 0.6561\n",
            "Epoch 25/50\n",
            "56/56 [==============================] - 37s 579ms/step - loss: 0.0966 - accuracy: 0.9794 - val_loss: 0.5035 - val_accuracy: 0.8828\n",
            "Epoch 26/50\n",
            "56/56 [==============================] - 37s 583ms/step - loss: 0.0994 - accuracy: 0.9755 - val_loss: 0.1415 - val_accuracy: 0.9718\n",
            "Epoch 27/50\n",
            "56/56 [==============================] - 37s 562ms/step - loss: 0.0640 - accuracy: 0.9825 - val_loss: 0.1585 - val_accuracy: 0.9651\n",
            "Epoch 28/50\n",
            "56/56 [==============================] - 37s 561ms/step - loss: 0.0456 - accuracy: 0.9893 - val_loss: 0.1319 - val_accuracy: 0.9707\n",
            "Epoch 29/50\n",
            "56/56 [==============================] - 37s 579ms/step - loss: 0.0402 - accuracy: 0.9899 - val_loss: 0.1461 - val_accuracy: 0.9763\n",
            "Epoch 30/50\n",
            "56/56 [==============================] - 37s 571ms/step - loss: 0.0268 - accuracy: 0.9944 - val_loss: 0.1497 - val_accuracy: 0.9786\n",
            "Epoch 31/50\n",
            "56/56 [==============================] - 38s 563ms/step - loss: 0.0184 - accuracy: 0.9949 - val_loss: 0.1476 - val_accuracy: 0.9797\n",
            "Epoch 32/50\n",
            "56/56 [==============================] - 38s 596ms/step - loss: 0.0290 - accuracy: 0.9930 - val_loss: 0.1486 - val_accuracy: 0.9763\n",
            "Epoch 33/50\n",
            "56/56 [==============================] - 36s 567ms/step - loss: 0.0664 - accuracy: 0.9865 - val_loss: 0.3720 - val_accuracy: 0.9301\n",
            "Epoch 34/50\n",
            "56/56 [==============================] - 37s 558ms/step - loss: 0.0882 - accuracy: 0.9809 - val_loss: 0.3815 - val_accuracy: 0.9425\n",
            "Epoch 35/50\n",
            "56/56 [==============================] - 37s 590ms/step - loss: 0.0766 - accuracy: 0.9780 - val_loss: 0.2523 - val_accuracy: 0.9504\n",
            "Epoch 36/50\n",
            "56/56 [==============================] - 36s 570ms/step - loss: 0.0620 - accuracy: 0.9842 - val_loss: 0.1776 - val_accuracy: 0.9775\n",
            "Epoch 37/50\n",
            "56/56 [==============================] - 37s 579ms/step - loss: 0.0711 - accuracy: 0.9831 - val_loss: 0.1464 - val_accuracy: 0.9752\n",
            "Epoch 38/50\n",
            "56/56 [==============================] - 37s 576ms/step - loss: 0.0428 - accuracy: 0.9899 - val_loss: 0.3755 - val_accuracy: 0.9211\n",
            "Epoch 39/50\n",
            "56/56 [==============================] - 37s 579ms/step - loss: 0.0524 - accuracy: 0.9865 - val_loss: 0.1181 - val_accuracy: 0.9797\n",
            "Epoch 40/50\n",
            "56/56 [==============================] - 37s 572ms/step - loss: 0.0676 - accuracy: 0.9834 - val_loss: 0.2594 - val_accuracy: 0.9707\n",
            "Epoch 41/50\n",
            "56/56 [==============================] - 38s 569ms/step - loss: 0.0755 - accuracy: 0.9814 - val_loss: 0.2892 - val_accuracy: 0.9391\n",
            "Epoch 42/50\n",
            "56/56 [==============================] - 38s 592ms/step - loss: 0.0573 - accuracy: 0.9831 - val_loss: 0.1989 - val_accuracy: 0.9605\n",
            "Epoch 43/50\n",
            "56/56 [==============================] - 36s 568ms/step - loss: 0.0594 - accuracy: 0.9834 - val_loss: 0.2278 - val_accuracy: 0.9605\n",
            "Epoch 44/50\n",
            "56/56 [==============================] - 38s 563ms/step - loss: 0.0596 - accuracy: 0.9831 - val_loss: 0.2377 - val_accuracy: 0.9583\n",
            "Epoch 45/50\n",
            "56/56 [==============================] - 37s 590ms/step - loss: 0.0661 - accuracy: 0.9845 - val_loss: 0.3936 - val_accuracy: 0.9470\n",
            "Epoch 46/50\n",
            "56/56 [==============================] - 36s 564ms/step - loss: 0.0552 - accuracy: 0.9854 - val_loss: 0.1948 - val_accuracy: 0.9752\n",
            "Epoch 47/50\n",
            "56/56 [==============================] - 38s 567ms/step - loss: 0.0528 - accuracy: 0.9873 - val_loss: 0.8702 - val_accuracy: 0.8613\n",
            "Epoch 48/50\n",
            "56/56 [==============================] - 38s 590ms/step - loss: 0.0555 - accuracy: 0.9828 - val_loss: 0.1458 - val_accuracy: 0.9729\n",
            "Epoch 49/50\n",
            "56/56 [==============================] - 36s 563ms/step - loss: 0.0505 - accuracy: 0.9870 - val_loss: 0.1820 - val_accuracy: 0.9763\n",
            "Epoch 50/50\n",
            "56/56 [==============================] - 38s 574ms/step - loss: 0.0360 - accuracy: 0.9913 - val_loss: 0.1488 - val_accuracy: 0.9775\n"
          ]
        },
        {
          "output_type": "display_data",
          "data": {
            "text/plain": [
              "<Figure size 640x480 with 1 Axes>"
            ],
            "image/png": "[encoded data removed]"
          },
          "metadata": {}
        },
        {
          "output_type": "display_data",
          "data": {
            "text/plain": [
              "<Figure size 640x480 with 1 Axes>"
            ],
            "image/png": "[encoded data removed]"
          },
          "metadata": {}
        }
      ]
    },
    {
      "cell_type": "code",
      "source": [
        "test_loss, test_accuracy = model.evaluate(test)\n",
        "\n",
        "print(\"Test Loss:\", test_loss)\n",
        "print(\"Test Accuracy:\", test_accuracy)\n"
      ],
      "metadata": {
        "colab": {
          "base_uri": "https://localhost:8080/"
        },
        "id": "NldRS5UqvZc9",
        "outputId": "9b4bc71f-3c25-4830-9f5a-38d860aafbd5"
      },
      "execution_count": 18,
      "outputs": [
        {
          "output_type": "stream",
          "name": "stdout",
          "text": [
            "21/21 [==============================] - 6s 283ms/step - loss: 1.7298 - accuracy: 0.8199\n",
            "Test Loss: 1.7298266887664795\n",
            "Test Accuracy: 0.8198757767677307\n"
          ]
        }
      ]
    }
  ]
}
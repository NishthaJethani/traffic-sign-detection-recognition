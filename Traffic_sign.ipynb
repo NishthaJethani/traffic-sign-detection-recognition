{
  "nbformat": 4,
  "nbformat_minor": 0,
  "metadata": {
    "colab": {
      "provenance": [],
      "gpuType": "T4",
      "authorship_tag": "ABX9TyP/5eWehdJ9ex+4+RnXtHzG",
      "include_colab_link": true
    },
    "kernelspec": {
      "name": "python3",
      "display_name": "Python 3"
    },
    "language_info": {
      "name": "python"
    },
    "accelerator": "GPU"
  },
  "cells": [
    {
      "cell_type": "markdown",
      "metadata": {
        "id": "view-in-github",
        "colab_type": "text"
      },
      "source": [
        "<a href=\"https://colab.research.google.com/github/NishthaJethani/traffic-sign-detection-recognition/blob/main/Traffic_sign.ipynb\" target=\"_parent\"><img src=\"https://colab.research.google.com/assets/colab-badge.svg\" alt=\"Open In Colab\"/></a>"
      ]
    },
    {
      "cell_type": "code",
      "execution_count": 1,
      "metadata": {
        "colab": {
          "base_uri": "https://localhost:8080/"
        },
        "id": "qdsF5NgKDB8U",
        "outputId": "91a7ee9a-3942-4027-f000-c00102b3c07e"
      },
      "outputs": [
        {
          "output_type": "stream",
          "name": "stdout",
          "text": [
            "Mounted at /content/drive\n"
          ]
        }
      ],
      "source": [
        "from google.colab import drive\n",
        "\n",
        "drive.mount('/content/drive')\n",
        "\n",
        "kaggle_api_key = \"/content/drive/My Drive/kaggle.json\""
      ]
    },
    {
      "cell_type": "code",
      "source": [
        "import os\n",
        "os.environ[\"KAGGLE_CONFIG_DIR\"] = \"/content/drive/MyDrive\"\n",
        "!cp \"{kaggle_api_key}\" /content/drive/MyDrive/kaggle.json\n",
        "!chmod 600 /content/drive/MyDrive/kaggle.json\n"
      ],
      "metadata": {
        "colab": {
          "base_uri": "https://localhost:8080/"
        },
        "id": "iC-clVgzDUIH",
        "outputId": "c3233634-e31f-4af5-b2c0-bdc5e75e5a43"
      },
      "execution_count": 2,
      "outputs": [
        {
          "output_type": "stream",
          "name": "stdout",
          "text": [
            "cp: '/content/drive/My Drive/kaggle.json' and '/content/drive/MyDrive/kaggle.json' are the same file\n"
          ]
        }
      ]
    },
    {
      "cell_type": "code",
      "source": [
        "import kaggle\n",
        "\n",
        "kaggle_dataset_name = \"sarangdilipjodh/indian-traffic-signs-prediction85-classes\"\n",
        "\n",
        "# Replace 'destination_directory' with the desired destination within your Colab environment\n",
        "destination_directory = \"/content/dataset/\"\n",
        "\n",
        "# Use the Kaggle API to load the dataset without downloading it\n",
        "kaggle.api.dataset_download_files(kaggle_dataset_name, path=destination_directory, unzip=True)\n"
      ],
      "metadata": {
        "id": "-6C4iNOuDmyk"
      },
      "execution_count": 3,
      "outputs": []
    },
    {
      "cell_type": "code",
      "source": [
        "extracted_files=os.listdir(\"/content/dataset/traffic_sign_classification_dataset\")\n",
        "print(extracted_files)"
      ],
      "metadata": {
        "colab": {
          "base_uri": "https://localhost:8080/"
        },
        "id": "ZR7MRbd0FRKK",
        "outputId": "cbab7fbf-6b74-4403-eb01-b28c67e93341"
      },
      "execution_count": 4,
      "outputs": [
        {
          "output_type": "stream",
          "name": "stdout",
          "text": [
            "['test', 'train']\n"
          ]
        }
      ]
    },
    {
      "cell_type": "code",
      "source": [
        "import tensorflow as tf\n",
        "from tensorflow import keras\n",
        "from traitlets.traitlets import validate\n",
        "from tensorflow.keras.preprocessing import image_dataset_from_directory\n",
        "\n",
        "train_data_dir = '/content/dataset/traffic_sign_classification_dataset/train'\n",
        "test_data_dir = '/content/dataset/traffic_sign_classification_dataset/test'\n",
        "\n",
        "train = image_dataset_from_directory(\n",
        "    train_data_dir,\n",
        "    labels='inferred',\n",
        "    label_mode='categorical',\n",
        "    image_size=[128,128],\n",
        "    interpolation='nearest',\n",
        "    validation_split=0.2,\n",
        "    batch_size=64,\n",
        "    shuffle=True,\n",
        "    seed=42,\n",
        "    subset=\"training\",\n",
        ")\n",
        "train\n",
        "\n",
        "validate=image_dataset_from_directory(\n",
        "    train_data_dir,\n",
        "    labels='inferred',\n",
        "    label_mode='categorical',\n",
        "    image_size=[128,128],\n",
        "    interpolation='nearest',\n",
        "    validation_split=0.2,\n",
        "    batch_size=64,\n",
        "    shuffle=False,\n",
        "    seed=42,\n",
        "    subset=\"validation\",\n",
        ")\n",
        "\n",
        "test=image_dataset_from_directory(\n",
        "    test_data_dir,\n",
        "    labels='inferred',\n",
        "    label_mode='categorical',\n",
        "    image_size=[128,128],\n",
        "    interpolation='nearest',\n",
        "    batch_size=64,\n",
        "    shuffle=False,\n",
        ")\n"
      ],
      "metadata": {
        "colab": {
          "base_uri": "https://localhost:8080/"
        },
        "id": "KL4XVCcRFeWy",
        "outputId": "b74f964e-5c2d-4407-80d6-37f5bbfb82c4"
      },
      "execution_count": 5,
      "outputs": [
        {
          "output_type": "stream",
          "name": "stdout",
          "text": [
            "Found 4438 files belonging to 85 classes.\n",
            "Using 3551 files for training.\n",
            "Found 4438 files belonging to 85 classes.\n",
            "Using 887 files for validation.\n",
            "Found 1288 files belonging to 85 classes.\n"
          ]
        }
      ]
    },
    {
      "cell_type": "code",
      "source": [
        "import numpy as np\n",
        "\n",
        "class_names = train.class_names\n",
        "\n",
        "# Iterate over the dataset and print each batch\n",
        "for images, labels in train:\n",
        "    # 'images' is a batch of images, and 'labels' is a batch of corresponding labels\n",
        "    # Print the shape of the image batch (number of images in the batch, image height, image width, number of channels)\n",
        "    print(\"Image batch shape:\", images.shape)\n",
        "\n",
        "    # Print the shape of the label batch (number of labels in the batch, number of classes)\n",
        "    print(\"Label batch shape:\", labels.shape)\n",
        "\n",
        "    # If you want to see the actual class labels instead of one-hot encoded labels\n",
        "    # Convert one-hot encoded labels to the class names\n",
        "    label_names = [class_names[np.argmax(label)] for label in labels]\n",
        "    print(\"Labels:\", label_names)\n",
        "\n",
        "    # Print other information or perform any other processing as needed for each batch\n",
        "    # For example, you can visualize the images or perform data augmentation\n",
        "\n",
        "    # Break the loop after printing one batch to avoid printing the entire dataset\n",
        "    break\n",
        "\n"
      ],
      "metadata": {
        "colab": {
          "base_uri": "https://localhost:8080/"
        },
        "id": "WmghEH_5RgoQ",
        "outputId": "a8c81fbf-d213-479d-c3df-62a04863b62d"
      },
      "execution_count": 6,
      "outputs": [
        {
          "output_type": "stream",
          "name": "stdout",
          "text": [
            "Image batch shape: (64, 128, 128, 3)\n",
            "Label batch shape: (64, 85)\n",
            "Labels: ['LEFT_REVERSE_BEND', 'SPEED_LIMIT_70', 'SPEED_LIMIT_70', 'SPEED_LIMIT_60', 'RIGHT_TURN_PROHIBITED', 'U_TURN_PROHIBITED', 'SPEED_LIMIT_80', 'COMPULSARY_KEEP_RIGHT', 'SPEED_LIMIT_60', 'SPEED_LIMIT_70', 'SPEED_LIMIT_30', 'CYCLE_CROSSING', 'HORN_PROHIBITED', 'CYCLE_PROHIBITED', 'HORN_PROHIBITED', 'COMPULSARY_KEEP_RIGHT', 'SIDE_ROAD_RIGHT', 'GUARDED_LEVEL_CROSSING', 'COMPULSARY_AHEAD_OR_TURN_RIGHT', 'SPEED_LIMIT_70', 'STEEP_ASCENT', 'COMPULSARY_KEEP_RIGHT', 'NO_STOPPING_OR_STANDING', 'FALLING_ROCKS', 'SPEED_LIMIT_80', 'SPEED_LIMIT_60', 'STEEP_DESCENT', 'NO_STOPPING_OR_STANDING', 'SPEED_LIMIT_30', 'HEIGHT_LIMIT', 'SCHOOL_AHEAD', 'GAP_IN_MEDIAN', 'ALL_MOTOR_VEHICLE_PROHIBITED', 'SIDE_ROAD_LEFT', 'Y_INTERSECTION', 'COMPULSARY_KEEP_LEFT', 'HORN_PROHIBITED', 'STRAIGHT_PROHIBITED', 'COMPULSARY_TURN_LEFT_AHEAD', 'GAP_IN_MEDIAN', 'SPEED_LIMIT_60', 'WIDTH_LIMIT', 'BULLOCK_AND_HANDCART_PROHIBITED', 'SPEED_LIMIT_50', 'COMPULSARY_KEEP_RIGHT', 'GIVE_WAY', 'COMPULSARY_AHEAD_OR_TURN_RIGHT', 'RIGHT_TURN_PROHIBITED', 'ROUNDABOUT', 'HEIGHT_LIMIT', 'GAP_IN_MEDIAN', 'NO_ENTRY', 'GIVE_WAY', 'SPEED_LIMIT_80', 'CATTLE', 'QUAY_SIDE_OR_RIVER_BANK', 'TURN_RIGHT', 'CROSS_ROAD', 'GAP_IN_MEDIAN', 'PEDESTRIAN_PROHIBITED', 'SPEED_LIMIT_30', 'SPEED_LIMIT_70', 'SPEED_LIMIT_80', 'LEFT_TURN_PROHIBITED']\n"
          ]
        }
      ]
    },
    {
      "cell_type": "code",
      "source": [
        "class_names = validate.class_names\n",
        "\n",
        "# Iterate over the dataset and print each batch\n",
        "for images, labels in test:\n",
        "    # 'images' is a batch of images, and 'labels' is a batch of corresponding labels\n",
        "    # Print the shape of the image batch (number of images in the batch, image height, image width, number of channels)\n",
        "    print(\"Image batch shape:\", images.shape)\n",
        "\n",
        "    # Print the shape of the label batch (number of labels in the batch, number of classes)\n",
        "    print(\"Label batch shape:\", labels.shape)\n",
        "\n",
        "    # If you want to see the actual class labels instead of one-hot encoded labels\n",
        "    # Convert one-hot encoded labels to the class names\n",
        "    label_names = [class_names[np.argmax(label)] for label in labels]\n",
        "    print(\"Labels:\", label_names)\n",
        "\n",
        "    # Print other information or perform any other processing as needed for each batch\n",
        "    # For example, you can visualize the images or perform data augmentation\n",
        "\n",
        "    # Break the loop after printing one batch to avoid printing the entire dataset\n",
        "    break\n"
      ],
      "metadata": {
        "colab": {
          "base_uri": "https://localhost:8080/"
        },
        "id": "S0cvn0jzR3q4",
        "outputId": "4aa08d65-199f-4e09-e5b1-9dab41ec1b56"
      },
      "execution_count": 7,
      "outputs": [
        {
          "output_type": "stream",
          "name": "stdout",
          "text": [
            "Image batch shape: (64, 128, 128, 3)\n",
            "Label batch shape: (64, 85)\n",
            "Labels: ['ALL_MOTOR_VEHICLE_PROHIBITED', 'ALL_MOTOR_VEHICLE_PROHIBITED', 'ALL_MOTOR_VEHICLE_PROHIBITED', 'ALL_MOTOR_VEHICLE_PROHIBITED', 'ALL_MOTOR_VEHICLE_PROHIBITED', 'AXLE_LOAD_LIMIT', 'AXLE_LOAD_LIMIT', 'AXLE_LOAD_LIMIT', 'AXLE_LOAD_LIMIT', 'AXLE_LOAD_LIMIT', 'BARRIER_AHEAD', 'BARRIER_AHEAD', 'BULLOCK_AND_HANDCART_PROHIBITED', 'BULLOCK_AND_HANDCART_PROHIBITED', 'BULLOCK_PROHIBITED', 'BULLOCK_PROHIBITED', 'BULLOCK_PROHIBITED', 'BULLOCK_PROHIBITED', 'BULLOCK_PROHIBITED', 'CATTLE', 'CATTLE', 'CATTLE', 'CATTLE', 'CATTLE', 'CATTLE', 'CATTLE', 'CATTLE', 'CATTLE', 'CATTLE', 'CATTLE', 'COMPULSARY_AHEAD', 'COMPULSARY_AHEAD', 'COMPULSARY_AHEAD', 'COMPULSARY_AHEAD', 'COMPULSARY_AHEAD', 'COMPULSARY_AHEAD', 'COMPULSARY_AHEAD', 'COMPULSARY_AHEAD', 'COMPULSARY_AHEAD', 'COMPULSARY_AHEAD', 'COMPULSARY_AHEAD_OR_TURN_LEFT', 'COMPULSARY_AHEAD_OR_TURN_LEFT', 'COMPULSARY_AHEAD_OR_TURN_LEFT', 'COMPULSARY_AHEAD_OR_TURN_LEFT', 'COMPULSARY_AHEAD_OR_TURN_RIGHT', 'COMPULSARY_AHEAD_OR_TURN_RIGHT', 'COMPULSARY_AHEAD_OR_TURN_RIGHT', 'COMPULSARY_AHEAD_OR_TURN_RIGHT', 'COMPULSARY_AHEAD_OR_TURN_RIGHT', 'COMPULSARY_AHEAD_OR_TURN_RIGHT', 'COMPULSARY_AHEAD_OR_TURN_RIGHT', 'COMPULSARY_AHEAD_OR_TURN_RIGHT', 'COMPULSARY_AHEAD_OR_TURN_RIGHT', 'COMPULSARY_AHEAD_OR_TURN_RIGHT', 'COMPULSARY_AHEAD_OR_TURN_RIGHT', 'COMPULSARY_AHEAD_OR_TURN_RIGHT', 'COMPULSARY_CYCLE_TRACK', 'COMPULSARY_CYCLE_TRACK', 'COMPULSARY_CYCLE_TRACK', 'COMPULSARY_CYCLE_TRACK', 'COMPULSARY_KEEP_LEFT', 'COMPULSARY_KEEP_LEFT', 'COMPULSARY_KEEP_LEFT', 'COMPULSARY_KEEP_LEFT']\n"
          ]
        }
      ]
    },
    {
      "cell_type": "code",
      "source": [
        "import matplotlib.pyplot as plt\n",
        "\n",
        "# Assuming you have already created your TensorFlow dataset, let's call it 'dataset'\n",
        "\n",
        "# Define a function to plot and display images\n",
        "def plot_images(train, num_images=5):\n",
        "    # Take the first 'num_images' samples from the dataset\n",
        "    images = []\n",
        "    for image, label in train.take(num_images):\n",
        "        images.append(image.numpy())\n",
        "\n",
        "    # Create a figure to display the images\n",
        "    plt.figure(figsize=(10, 5))\n",
        "\n",
        "    # Plot each image\n",
        "    for i in range(num_images):\n",
        "        plt.subplot(1, num_images, i + 1)\n",
        "        plt.imshow(images[i])\n",
        "        plt.axis('off')\n",
        "\n",
        "    plt.show()\n",
        "\n",
        "    plot_images(train)\n"
      ],
      "metadata": {
        "id": "_wzNBNTVfUqd"
      },
      "execution_count": 8,
      "outputs": []
    },
    {
      "cell_type": "code",
      "source": [
        "signs=[]\n",
        "\n",
        "all_signs=os.listdir(train_data_dir)\n",
        "\n",
        "for item in all_signs:\n",
        "  signs.append(item)\n",
        "\n",
        "\n",
        "\n",
        "signs"
      ],
      "metadata": {
        "id": "3KY0NrGgHU3e",
        "colab": {
          "base_uri": "https://localhost:8080/"
        },
        "outputId": "5a5fff4c-4e4d-4a76-bdbc-7244998bf1b9"
      },
      "execution_count": 9,
      "outputs": [
        {
          "output_type": "execute_result",
          "data": {
            "text/plain": [
              "['WIDTH_LIMIT',\n",
              " 'SPEED_LIMIT_80',\n",
              " 'STOP',\n",
              " 'CATTLE',\n",
              " 'NO_ENTRY',\n",
              " 'SLIPPERY_ROAD',\n",
              " 'TRAFFIC_SIGNAL',\n",
              " 'ROAD_WIDENS_AHEAD',\n",
              " 'SPEED_LIMIT_30',\n",
              " 'TONGA_PROHIBITED',\n",
              " 'LOOSE_GRAVEL',\n",
              " 'PEDESTRIAN_CROSSING',\n",
              " 'STRAIGHT_PROHIBITED',\n",
              " 'QUAY_SIDE_OR_RIVER_BANK',\n",
              " 'GAP_IN_MEDIAN',\n",
              " 'RIGHT_TURN_PROHIBITED',\n",
              " 'STEEP_ASCENT',\n",
              " 'COMPULSARY_TURN_RIGHT',\n",
              " 'PEDESTRIAN_PROHIBITED',\n",
              " 'COMPULSARY_CYCLE_TRACK',\n",
              " 'HANDCART_PROHIBITED',\n",
              " 'SCHOOL_AHEAD',\n",
              " 'SPEED_LIMIT_40',\n",
              " 'GIVE_WAY',\n",
              " 'CYCLE_PROHIBITED',\n",
              " 'COMPULSARY_TURN_RIGHT_AHEAD',\n",
              " 'LEFT_REVERSE_BEND',\n",
              " 'COMPULSARY_SOUND_HORN',\n",
              " 'RIGHT_HAND_CURVE',\n",
              " 'TRUCK_PROHIBITED',\n",
              " 'SIDE_ROAD_RIGHT',\n",
              " 'PASS_EITHER_SIDE',\n",
              " 'ALL_MOTOR_VEHICLE_PROHIBITED',\n",
              " 'CYCLE_CROSSING',\n",
              " 'LEFT_TURN_PROHIBITED',\n",
              " 'BULLOCK_AND_HANDCART_PROHIBITED',\n",
              " 'COMPULSARY_KEEP_RIGHT',\n",
              " 'HUMP_OR_ROUGH_ROAD',\n",
              " 'COMPULSARY_TURN_LEFT',\n",
              " 'RIGHT_REVERSE_BEND',\n",
              " 'COMPULSARY_TURN_LEFT_AHEAD',\n",
              " 'DANGEROUS_DIP',\n",
              " 'FERRY',\n",
              " 'COMPULSARY_MINIMUM_SPEED',\n",
              " 'SPEED_LIMIT_5',\n",
              " 'TURN_RIGHT',\n",
              " 'BULLOCK_PROHIBITED',\n",
              " 'LEFT_HAIR_PIN_BEND',\n",
              " 'DIRECTION',\n",
              " 'SIDE_ROAD_LEFT',\n",
              " 'ROUNDABOUT',\n",
              " 'COMPULSARY_AHEAD_OR_TURN_LEFT',\n",
              " 'U_TURN_PROHIBITED',\n",
              " 'LOAD_LIMIT',\n",
              " 'UNGUARDED_LEVEL_CROSSING',\n",
              " 'NARROW_BRIDGE',\n",
              " 'RESTRICTION_ENDS',\n",
              " 'COMPULSARY_KEEP_LEFT',\n",
              " 'T_INTERSECTION',\n",
              " 'COMPULSARY_AHEAD_OR_TURN_RIGHT',\n",
              " 'Y_INTERSECTION',\n",
              " 'HORN_PROHIBITED',\n",
              " 'HEIGHT_LIMIT',\n",
              " 'SPEED_LIMIT_20',\n",
              " 'NARROW_ROAD_AHEAD',\n",
              " 'LENGTH_LIMIT',\n",
              " 'STAGGERED_INTERSECTION',\n",
              " 'MEN_AT_WORK',\n",
              " 'NO_STOPPING_OR_STANDING',\n",
              " 'FALLING_ROCKS',\n",
              " 'SPEED_LIMIT_15',\n",
              " 'COMPULSARY_AHEAD',\n",
              " 'SPEED_LIMIT_70',\n",
              " 'NO_PARKING',\n",
              " 'BARRIER_AHEAD',\n",
              " 'RIGHT_HAIR_PIN_BEND',\n",
              " 'STEEP_DESCENT',\n",
              " 'PRIORITY_FOR_ONCOMING_VEHICLES',\n",
              " 'OVERTAKING_PROHIBITED',\n",
              " 'SPEED_LIMIT_50',\n",
              " 'LEFT_HAND_CURVE',\n",
              " 'GUARDED_LEVEL_CROSSING',\n",
              " 'SPEED_LIMIT_60',\n",
              " 'AXLE_LOAD_LIMIT',\n",
              " 'CROSS_ROAD']"
            ]
          },
          "metadata": {},
          "execution_count": 9
        }
      ]
    },
    {
      "cell_type": "code",
      "source": [
        "from tensorflow.keras import models, layers\n",
        "\n",
        "model=models.Sequential([\n",
        "    layers.Conv2D(filters=16, kernel_size=(5,5), activation='relu', input_shape=(128,128,3)),\n",
        "    layers.Conv2D(filters=32, kernel_size=(5,5), activation='relu'),\n",
        "    layers.MaxPool2D(pool_size=(2, 2)),\n",
        "    layers.BatchNormalization(axis=-1),\n",
        "\n",
        "    layers.Conv2D(filters=64, kernel_size=(3,3), activation='relu'),\n",
        "    layers.Conv2D(filters=64, kernel_size=(3,3), activation='relu'),\n",
        "    layers.MaxPool2D(pool_size=(2, 2)),\n",
        "    layers.BatchNormalization(axis=-1),\n",
        "    layers.Dropout(rate=0.25),\n",
        "\n",
        "    layers.Conv2D(filters=64, kernel_size=(3,3), activation='relu'),\n",
        "    layers.MaxPool2D(pool_size=(2, 2)),\n",
        "    layers.BatchNormalization(axis=-1),\n",
        "    layers.Dropout(rate=0.25),\n",
        "\n",
        "    layers.Flatten(),\n",
        "    layers.Dense(512, activation='relu'),\n",
        "    layers.BatchNormalization(),\n",
        "    layers.Dropout(rate=0.25),\n",
        "\n",
        "    layers.Dense(128, activation='relu'),\n",
        "    layers.BatchNormalization(),\n",
        "    layers.Dropout(rate=0.25),\n",
        "\n",
        "    layers.Dense(85, activation='softmax')\n",
        "])"
      ],
      "metadata": {
        "id": "wlJ9fP1hHbWn"
      },
      "execution_count": 10,
      "outputs": []
    },
    {
      "cell_type": "code",
      "source": [
        "model.summary()"
      ],
      "metadata": {
        "id": "IY0pykc4J0mH",
        "colab": {
          "base_uri": "https://localhost:8080/"
        },
        "outputId": "7236507f-94ce-4212-8657-62586f53617f"
      },
      "execution_count": 11,
      "outputs": [
        {
          "output_type": "stream",
          "name": "stdout",
          "text": [
            "Model: \"sequential\"\n",
            "_________________________________________________________________\n",
            " Layer (type)                Output Shape              Param #   \n",
            "=================================================================\n",
            " conv2d (Conv2D)             (None, 124, 124, 16)      1216      \n",
            "                                                                 \n",
            " conv2d_1 (Conv2D)           (None, 120, 120, 32)      12832     \n",
            "                                                                 \n",
            " max_pooling2d (MaxPooling2D  (None, 60, 60, 32)       0         \n",
            " )                                                               \n",
            "                                                                 \n",
            " batch_normalization (BatchN  (None, 60, 60, 32)       128       \n",
            " ormalization)                                                   \n",
            "                                                                 \n",
            " conv2d_2 (Conv2D)           (None, 58, 58, 64)        18496     \n",
            "                                                                 \n",
            " conv2d_3 (Conv2D)           (None, 56, 56, 64)        36928     \n",
            "                                                                 \n",
            " max_pooling2d_1 (MaxPooling  (None, 28, 28, 64)       0         \n",
            " 2D)                                                             \n",
            "                                                                 \n",
            " batch_normalization_1 (Batc  (None, 28, 28, 64)       256       \n",
            " hNormalization)                                                 \n",
            "                                                                 \n",
            " dropout (Dropout)           (None, 28, 28, 64)        0         \n",
            "                                                                 \n",
            " conv2d_4 (Conv2D)           (None, 26, 26, 64)        36928     \n",
            "                                                                 \n",
            " max_pooling2d_2 (MaxPooling  (None, 13, 13, 64)       0         \n",
            " 2D)                                                             \n",
            "                                                                 \n",
            " batch_normalization_2 (Batc  (None, 13, 13, 64)       256       \n",
            " hNormalization)                                                 \n",
            "                                                                 \n",
            " dropout_1 (Dropout)         (None, 13, 13, 64)        0         \n",
            "                                                                 \n",
            " flatten (Flatten)           (None, 10816)             0         \n",
            "                                                                 \n",
            " dense (Dense)               (None, 512)               5538304   \n",
            "                                                                 \n",
            " batch_normalization_3 (Batc  (None, 512)              2048      \n",
            " hNormalization)                                                 \n",
            "                                                                 \n",
            " dropout_2 (Dropout)         (None, 512)               0         \n",
            "                                                                 \n",
            " dense_1 (Dense)             (None, 128)               65664     \n",
            "                                                                 \n",
            " batch_normalization_4 (Batc  (None, 128)              512       \n",
            " hNormalization)                                                 \n",
            "                                                                 \n",
            " dropout_3 (Dropout)         (None, 128)               0         \n",
            "                                                                 \n",
            " dense_2 (Dense)             (None, 85)                10965     \n",
            "                                                                 \n",
            "=================================================================\n",
            "Total params: 5,724,533\n",
            "Trainable params: 5,722,933\n",
            "Non-trainable params: 1,600\n",
            "_________________________________________________________________\n"
          ]
        }
      ]
    },
    {
      "cell_type": "code",
      "source": [
        "from tensorflow import keras\n",
        "\n",
        "model.compile(optimizer=keras.optimizers.Adam(learning_rate=0.01), loss='categorical_crossentropy', metrics=['accuracy'])\n"
      ],
      "metadata": {
        "id": "mZ-ENFBbKC27"
      },
      "execution_count": 12,
      "outputs": []
    },
    {
      "cell_type": "code",
      "source": [
        "history=model.fit(train, epochs=20, validation_data=validate)\n",
        "\n",
        "import pandas as pd\n",
        "history_frame = pd.DataFrame(history.history)\n",
        "history_frame.loc[:, ['loss', 'val_loss']].plot()\n",
        "history_frame.loc[:, ['accuracy', 'val_accuracy']].plot();"
      ],
      "metadata": {
        "id": "iq2xkZmzK16i",
        "colab": {
          "base_uri": "https://localhost:8080/",
          "height": 1000
        },
        "outputId": "f2d6841b-8a17-4589-c01b-28025e5a811a"
      },
      "execution_count": 13,
      "outputs": [
        {
          "output_type": "stream",
          "name": "stdout",
          "text": [
            "Epoch 1/20\n",
            "56/56 [==============================] - 61s 663ms/step - loss: 3.1268 - accuracy: 0.2653 - val_loss: 156.2337 - val_accuracy: 0.0045\n",
            "Epoch 2/20\n",
            "56/56 [==============================] - 41s 647ms/step - loss: 1.7842 - accuracy: 0.5162 - val_loss: 22.0177 - val_accuracy: 0.0417\n",
            "Epoch 3/20\n",
            "56/56 [==============================] - 41s 639ms/step - loss: 1.2179 - accuracy: 0.6604 - val_loss: 7.2326 - val_accuracy: 0.0947\n",
            "Epoch 4/20\n",
            "56/56 [==============================] - 40s 617ms/step - loss: 0.8406 - accuracy: 0.7623 - val_loss: 0.8025 - val_accuracy: 0.7418\n",
            "Epoch 5/20\n",
            "56/56 [==============================] - 41s 611ms/step - loss: 0.6368 - accuracy: 0.8082 - val_loss: 0.6123 - val_accuracy: 0.8286\n",
            "Epoch 6/20\n",
            "56/56 [==============================] - 41s 612ms/step - loss: 0.4624 - accuracy: 0.8617 - val_loss: 0.2651 - val_accuracy: 0.9278\n",
            "Epoch 7/20\n",
            "56/56 [==============================] - 41s 627ms/step - loss: 0.3633 - accuracy: 0.8955 - val_loss: 0.9478 - val_accuracy: 0.7700\n",
            "Epoch 8/20\n",
            "56/56 [==============================] - 41s 650ms/step - loss: 0.2956 - accuracy: 0.9110 - val_loss: 0.2331 - val_accuracy: 0.9335\n",
            "Epoch 9/20\n",
            "56/56 [==============================] - 41s 645ms/step - loss: 0.2404 - accuracy: 0.9217 - val_loss: 0.1007 - val_accuracy: 0.9741\n",
            "Epoch 10/20\n",
            "56/56 [==============================] - 40s 630ms/step - loss: 0.2302 - accuracy: 0.9265 - val_loss: 0.1414 - val_accuracy: 0.9707\n",
            "Epoch 11/20\n",
            "56/56 [==============================] - 40s 618ms/step - loss: 0.1946 - accuracy: 0.9397 - val_loss: 0.2284 - val_accuracy: 0.9335\n",
            "Epoch 12/20\n",
            "56/56 [==============================] - 40s 618ms/step - loss: 0.1852 - accuracy: 0.9411 - val_loss: 0.5796 - val_accuracy: 0.8422\n",
            "Epoch 13/20\n",
            "56/56 [==============================] - 41s 618ms/step - loss: 0.1603 - accuracy: 0.9496 - val_loss: 0.1230 - val_accuracy: 0.9707\n",
            "Epoch 14/20\n",
            "56/56 [==============================] - 40s 616ms/step - loss: 0.1658 - accuracy: 0.9487 - val_loss: 0.1164 - val_accuracy: 0.9707\n",
            "Epoch 15/20\n",
            "56/56 [==============================] - 41s 617ms/step - loss: 0.1586 - accuracy: 0.9541 - val_loss: 0.1252 - val_accuracy: 0.9673\n",
            "Epoch 16/20\n",
            "56/56 [==============================] - 41s 615ms/step - loss: 0.1367 - accuracy: 0.9572 - val_loss: 0.1296 - val_accuracy: 0.9718\n",
            "Epoch 17/20\n",
            "56/56 [==============================] - 41s 613ms/step - loss: 0.1449 - accuracy: 0.9527 - val_loss: 0.0898 - val_accuracy: 0.9741\n",
            "Epoch 18/20\n",
            "56/56 [==============================] - 41s 637ms/step - loss: 0.1113 - accuracy: 0.9656 - val_loss: 0.1231 - val_accuracy: 0.9729\n",
            "Epoch 19/20\n",
            "56/56 [==============================] - 41s 640ms/step - loss: 0.1013 - accuracy: 0.9693 - val_loss: 0.0974 - val_accuracy: 0.9831\n",
            "Epoch 20/20\n",
            "56/56 [==============================] - 40s 620ms/step - loss: 0.0853 - accuracy: 0.9730 - val_loss: 0.1080 - val_accuracy: 0.9763\n"
          ]
        },
        {
          "output_type": "display_data",
          "data": {
            "text/plain": [
              "<Figure size 640x480 with 1 Axes>"
            ],
            "image/png": "[encoded data removed]"
          },
          "metadata": {}
        },
        {
          "output_type": "display_data",
          "data": {
            "text/plain": [
              "<Figure size 640x480 with 1 Axes>"
            ],
            "image/png": "[encoded data removed]"
          },
          "metadata": {}
        }
      ]
    },
    {
      "cell_type": "code",
      "source": [
        "test_loss, test_accuracy = model.evaluate(test)\n",
        "\n",
        "print(\"Test Loss:\", test_loss)\n",
        "print(\"Test Accuracy:\", test_accuracy)\n"
      ],
      "metadata": {
        "id": "HlXueTD5K-IE",
        "colab": {
          "base_uri": "https://localhost:8080/"
        },
        "outputId": "2148f403-09ce-4ead-8992-80dc1b901aee"
      },
      "execution_count": 14,
      "outputs": [
        {
          "output_type": "stream",
          "name": "stdout",
          "text": [
            "21/21 [==============================] - 5s 251ms/step - loss: 1.1094 - accuracy: 0.8354\n",
            "Test Loss: 1.1093885898590088\n",
            "Test Accuracy: 0.8354037404060364\n"
          ]
        }
      ]
    },
    {
      "cell_type": "code",
      "source": [],
      "metadata": {
        "id": "8WZo2XFWVlDQ"
      },
      "execution_count": 14,
      "outputs": []
    }
  ]
}